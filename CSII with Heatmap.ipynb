{
  "nbformat": 4,
  "nbformat_minor": 0,
  "metadata": {
    "colab": {
      "name": "Python Code Final",
      "provenance": [],
      "include_colab_link": true
    },
    "kernelspec": {
      "name": "python3",
      "display_name": "Python 3"
    },
    "language_info": {
      "name": "python"
    }
  },
  "cells": [
    {
      "cell_type": "markdown",
      "metadata": {
        "id": "view-in-github",
        "colab_type": "text"
      },
      "source": [
        "<a href=\"https://colab.research.google.com/github/RSMZP/Behavioral-Study/blob/main/CSII%20with%20Heatmap.ipynb\" target=\"_parent\"><img src=\"https://colab.research.google.com/assets/colab-badge.svg\" alt=\"Open In Colab\"/></a>"
      ]
    },
    {
      "cell_type": "code",
      "metadata": {
        "id": "ro90O5u9giWh"
      },
      "source": [
        "import pandas as pd"
      ],
      "execution_count": null,
      "outputs": []
    },
    {
      "cell_type": "code",
      "metadata": {
        "id": "GUARw5X_ml-B"
      },
      "source": [
        "import numpy as np"
      ],
      "execution_count": null,
      "outputs": []
    },
    {
      "cell_type": "code",
      "metadata": {
        "id": "EegRKMo-gw16"
      },
      "source": [
        "path = \"/Parameters.xlsx\""
      ],
      "execution_count": null,
      "outputs": []
    },
    {
      "cell_type": "code",
      "metadata": {
        "id": "lYk5KvuphJUU"
      },
      "source": [
        "data = pd.read_excel(path)"
      ],
      "execution_count": null,
      "outputs": []
    },
    {
      "cell_type": "code",
      "metadata": {
        "id": "tqHJG-8EhK5x",
        "colab": {
          "base_uri": "https://localhost:8080/"
        },
        "outputId": "674c23e4-dc3a-4cac-8f77-e6484ef7b70d"
      },
      "source": [
        "data.columns"
      ],
      "execution_count": null,
      "outputs": [
        {
          "output_type": "execute_result",
          "data": {
            "text/plain": [
              "Index(['Submission Date', 'First Name', 'Last Name', 'Department',\n",
              "       'Led By (G = Generalists (IAS)/ S= Speacialists(All other services)',\n",
              "       'Civil Service you belong to', 'Genuine Concern for Others(Tf)',\n",
              "       'Spends time teaching and coaching (Tf)',\n",
              "       'Political Sensitivity and Skills(Tc)',\n",
              "       'Decisiveness Determination and Self Confidence (Tf)',\n",
              "       'Integrity, trustworthiness, honesty and openness (Tf)',\n",
              "       'Networks with different offices to get the work done (Tc)',\n",
              "       'Accessibility and approachibility (Tc)',\n",
              "       'Encourages me to think more creatively (Tf)',\n",
              "       'Gets me to rethink never questioned ideas(Tf)',\n",
              "       'Tell us standards to carry out the work(Tc)',\n",
              "       'Views me as having different needs, abilities, and aspirations (Tf)',\n",
              "       'Monitors my performance and keeps track of mistake (Tc)',\n",
              "       'Will take action before problems are chronic (Tc)',\n",
              "       'Scope of Corrupt Practices (Tc)', 'Works out agreements with me (Tf)',\n",
              "       'Any comment on if you want to be lead by a Generalist or Specialist(Optional).'],\n",
              "      dtype='object')"
            ]
          },
          "metadata": {},
          "execution_count": 4
        }
      ]
    },
    {
      "cell_type": "code",
      "metadata": {
        "id": "pEn2vEhxhWLD",
        "colab": {
          "base_uri": "https://localhost:8080/"
        },
        "outputId": "43d3c1f0-d644-4181-e97b-c0e92a8ace1f"
      },
      "source": [
        "data.shape"
      ],
      "execution_count": null,
      "outputs": [
        {
          "output_type": "execute_result",
          "data": {
            "text/plain": [
              "(324, 22)"
            ]
          },
          "metadata": {},
          "execution_count": 5
        }
      ]
    },
    {
      "cell_type": "code",
      "metadata": {
        "colab": {
          "base_uri": "https://localhost:8080/"
        },
        "id": "DefYlvbRhXyW",
        "outputId": "ad780b63-55e5-40f3-caf5-bfa154ab9d6b"
      },
      "source": [
        "data.info()"
      ],
      "execution_count": null,
      "outputs": [
        {
          "output_type": "stream",
          "name": "stdout",
          "text": [
            "<class 'pandas.core.frame.DataFrame'>\n",
            "RangeIndex: 324 entries, 0 to 323\n",
            "Data columns (total 22 columns):\n",
            " #   Column                                                                          Non-Null Count  Dtype \n",
            "---  ------                                                                          --------------  ----- \n",
            " 0   Submission Date                                                                 324 non-null    object\n",
            " 1   First Name                                                                      324 non-null    object\n",
            " 2   Last Name                                                                       324 non-null    object\n",
            " 3   Department                                                                      324 non-null    object\n",
            " 4   Led By (G = Generalists (IAS)/ S= Speacialists(All other services)              324 non-null    object\n",
            " 5   Civil Service you belong to                                                     324 non-null    object\n",
            " 6   Genuine Concern for Others(Tf)                                                  324 non-null    object\n",
            " 7   Spends time teaching and coaching (Tf)                                          324 non-null    object\n",
            " 8   Political Sensitivity and Skills(Tc)                                            324 non-null    object\n",
            " 9   Decisiveness Determination and Self Confidence (Tf)                             324 non-null    object\n",
            " 10  Integrity, trustworthiness, honesty and openness (Tf)                           324 non-null    object\n",
            " 11  Networks with different offices to get the work done (Tc)                       324 non-null    object\n",
            " 12  Accessibility and approachibility (Tc)                                          324 non-null    object\n",
            " 13  Encourages me to think more creatively (Tf)                                     324 non-null    object\n",
            " 14  Gets me to rethink never questioned ideas(Tf)                                   324 non-null    object\n",
            " 15  Tell us standards to carry out the work(Tc)                                     324 non-null    object\n",
            " 16  Views me as having different needs, abilities, and aspirations (Tf)             324 non-null    object\n",
            " 17  Monitors my performance and keeps track of mistake (Tc)                         324 non-null    object\n",
            " 18  Will take action before problems are chronic (Tc)                               324 non-null    object\n",
            " 19  Scope of Corrupt Practices (Tc)                                                 324 non-null    object\n",
            " 20  Works out agreements with me (Tf)                                               324 non-null    object\n",
            " 21  Any comment on if you want to be lead by a Generalist or Specialist(Optional).  21 non-null     object\n",
            "dtypes: object(22)\n",
            "memory usage: 55.8+ KB\n"
          ]
        }
      ]
    },
    {
      "cell_type": "code",
      "metadata": {
        "id": "FsiCpwvR33r6"
      },
      "source": [
        "df = data"
      ],
      "execution_count": null,
      "outputs": []
    },
    {
      "cell_type": "code",
      "metadata": {
        "id": "qK0k1Tce4RBv"
      },
      "source": [
        "df['class'] = data['Led By (G = Generalists (IAS)/ S= Speacialists(All other services)']"
      ],
      "execution_count": null,
      "outputs": []
    },
    {
      "cell_type": "code",
      "metadata": {
        "colab": {
          "base_uri": "https://localhost:8080/",
          "height": 509
        },
        "id": "sjGjxym14kju",
        "outputId": "9198c23c-ec15-443e-f120-cc656fa75b6c"
      },
      "source": [
        "df.head()"
      ],
      "execution_count": null,
      "outputs": [
        {
          "output_type": "execute_result",
          "data": {
            "text/html": [
              "<div>\n",
              "<style scoped>\n",
              "    .dataframe tbody tr th:only-of-type {\n",
              "        vertical-align: middle;\n",
              "    }\n",
              "\n",
              "    .dataframe tbody tr th {\n",
              "        vertical-align: top;\n",
              "    }\n",
              "\n",
              "    .dataframe thead th {\n",
              "        text-align: right;\n",
              "    }\n",
              "</style>\n",
              "<table border=\"1\" class=\"dataframe\">\n",
              "  <thead>\n",
              "    <tr style=\"text-align: right;\">\n",
              "      <th></th>\n",
              "      <th>Submission Date</th>\n",
              "      <th>First Name</th>\n",
              "      <th>Last Name</th>\n",
              "      <th>Department</th>\n",
              "      <th>Led By (G = Generalists (IAS)/ S= Speacialists(All other services)</th>\n",
              "      <th>Civil Service you belong to</th>\n",
              "      <th>Genuine Concern for Others(Tf)</th>\n",
              "      <th>Spends time teaching and coaching (Tf)</th>\n",
              "      <th>Political Sensitivity and Skills(Tc)</th>\n",
              "      <th>Decisiveness Determination and Self Confidence (Tf)</th>\n",
              "      <th>Integrity, trustworthiness, honesty and openness (Tf)</th>\n",
              "      <th>Networks with different offices to get the work done (Tc)</th>\n",
              "      <th>Accessibility and approachibility (Tc)</th>\n",
              "      <th>Encourages me to think more creatively (Tf)</th>\n",
              "      <th>Gets me to rethink never questioned ideas(Tf)</th>\n",
              "      <th>Tell us standards to carry out the work(Tc)</th>\n",
              "      <th>Views me as having different needs, abilities, and aspirations (Tf)</th>\n",
              "      <th>Monitors my performance and keeps track of mistake (Tc)</th>\n",
              "      <th>Will take action before problems are chronic (Tc)</th>\n",
              "      <th>Scope of Corrupt Practices (Tc)</th>\n",
              "      <th>Works out agreements with me (Tf)</th>\n",
              "      <th>Any comment on if you want to be lead by a Generalist or Specialist(Optional).</th>\n",
              "      <th>class</th>\n",
              "    </tr>\n",
              "  </thead>\n",
              "  <tbody>\n",
              "    <tr>\n",
              "      <th>0</th>\n",
              "      <td>2021/09/06 01:58:48</td>\n",
              "      <td>Shashank</td>\n",
              "      <td>Priya</td>\n",
              "      <td>Department of Commerce &amp; Industry</td>\n",
              "      <td>G</td>\n",
              "      <td>IRS</td>\n",
              "      <td>Very satisfied</td>\n",
              "      <td>Very satisfied</td>\n",
              "      <td>Satisfied</td>\n",
              "      <td>Satisfied</td>\n",
              "      <td>Satisfied</td>\n",
              "      <td>Satisfied</td>\n",
              "      <td>Satisfied</td>\n",
              "      <td>Satisfied</td>\n",
              "      <td>Neutral</td>\n",
              "      <td>Very satisfied</td>\n",
              "      <td>Very satisfied</td>\n",
              "      <td>Very satisfied</td>\n",
              "      <td>Satisfied</td>\n",
              "      <td>Satisfied</td>\n",
              "      <td>Satisfied</td>\n",
              "      <td>NaN</td>\n",
              "      <td>G</td>\n",
              "    </tr>\n",
              "    <tr>\n",
              "      <th>1</th>\n",
              "      <td>2021/09/06 01:55:54</td>\n",
              "      <td>Naresh</td>\n",
              "      <td>Salecha</td>\n",
              "      <td>Department of Expenditure</td>\n",
              "      <td>G</td>\n",
              "      <td>IRAS</td>\n",
              "      <td>Satisfied</td>\n",
              "      <td>Satisfied</td>\n",
              "      <td>Very satisfied</td>\n",
              "      <td>Very satisfied</td>\n",
              "      <td>Satisfied</td>\n",
              "      <td>Satisfied</td>\n",
              "      <td>Satisfied</td>\n",
              "      <td>Satisfied</td>\n",
              "      <td>Satisfied</td>\n",
              "      <td>Satisfied</td>\n",
              "      <td>Very satisfied</td>\n",
              "      <td>Very satisfied</td>\n",
              "      <td>Very satisfied</td>\n",
              "      <td>Unsatisfied</td>\n",
              "      <td>Neutral</td>\n",
              "      <td>NaN</td>\n",
              "      <td>G</td>\n",
              "    </tr>\n",
              "    <tr>\n",
              "      <th>2</th>\n",
              "      <td>2021/09/06 01:52:18</td>\n",
              "      <td>Tarun</td>\n",
              "      <td>Bajaj</td>\n",
              "      <td>Department of Revenue</td>\n",
              "      <td>S</td>\n",
              "      <td>IAS</td>\n",
              "      <td>Satisfied</td>\n",
              "      <td>Satisfied</td>\n",
              "      <td>Very satisfied</td>\n",
              "      <td>Very satisfied</td>\n",
              "      <td>Satisfied</td>\n",
              "      <td>Satisfied</td>\n",
              "      <td>Satisfied</td>\n",
              "      <td>Satisfied</td>\n",
              "      <td>Satisfied</td>\n",
              "      <td>Very satisfied</td>\n",
              "      <td>Very satisfied</td>\n",
              "      <td>Very satisfied</td>\n",
              "      <td>Very satisfied</td>\n",
              "      <td>Very unsatisfied</td>\n",
              "      <td>Satisfied</td>\n",
              "      <td>NaN</td>\n",
              "      <td>S</td>\n",
              "    </tr>\n",
              "    <tr>\n",
              "      <th>3</th>\n",
              "      <td>2021/09/06 01:47:35</td>\n",
              "      <td>Sanjay</td>\n",
              "      <td>Sharan</td>\n",
              "      <td>Department of Textile</td>\n",
              "      <td>S</td>\n",
              "      <td>IPoS</td>\n",
              "      <td>Satisfied</td>\n",
              "      <td>Neutral</td>\n",
              "      <td>Satisfied</td>\n",
              "      <td>Satisfied</td>\n",
              "      <td>Satisfied</td>\n",
              "      <td>Satisfied</td>\n",
              "      <td>Satisfied</td>\n",
              "      <td>Very satisfied</td>\n",
              "      <td>Very satisfied</td>\n",
              "      <td>Very satisfied</td>\n",
              "      <td>Satisfied</td>\n",
              "      <td>Very satisfied</td>\n",
              "      <td>Very satisfied</td>\n",
              "      <td>Unsatisfied</td>\n",
              "      <td>Neutral</td>\n",
              "      <td>NaN</td>\n",
              "      <td>S</td>\n",
              "    </tr>\n",
              "    <tr>\n",
              "      <th>4</th>\n",
              "      <td>2021/09/06 01:45:05</td>\n",
              "      <td>Sunila</td>\n",
              "      <td>Bagga</td>\n",
              "      <td>Department of Administrative Reforms and Publi...</td>\n",
              "      <td>G</td>\n",
              "      <td>Indian Engineering Services</td>\n",
              "      <td>Neutral</td>\n",
              "      <td>Unsatisfied</td>\n",
              "      <td>Unsatisfied</td>\n",
              "      <td>Neutral</td>\n",
              "      <td>Satisfied</td>\n",
              "      <td>Very satisfied</td>\n",
              "      <td>Neutral</td>\n",
              "      <td>Unsatisfied</td>\n",
              "      <td>Unsatisfied</td>\n",
              "      <td>Neutral</td>\n",
              "      <td>Neutral</td>\n",
              "      <td>Unsatisfied</td>\n",
              "      <td>Unsatisfied</td>\n",
              "      <td>Unsatisfied</td>\n",
              "      <td>Unsatisfied</td>\n",
              "      <td>NaN</td>\n",
              "      <td>G</td>\n",
              "    </tr>\n",
              "  </tbody>\n",
              "</table>\n",
              "</div>"
            ],
            "text/plain": [
              "       Submission Date  ... class\n",
              "0  2021/09/06 01:58:48  ...     G\n",
              "1  2021/09/06 01:55:54  ...     G\n",
              "2  2021/09/06 01:52:18  ...     S\n",
              "3  2021/09/06 01:47:35  ...     S\n",
              "4  2021/09/06 01:45:05  ...     G\n",
              "\n",
              "[5 rows x 23 columns]"
            ]
          },
          "metadata": {},
          "execution_count": 9
        }
      ]
    },
    {
      "cell_type": "code",
      "metadata": {
        "id": "ZOdn77TzhaYE"
      },
      "source": [
        "from collections import Counter\n",
        "import numpy as np\n",
        "\n",
        "def sum_ratings(column):\n",
        "  data_g = df[df['class'] == 'G'][column]\n",
        "  data_s = df[df['class'] == 'S'][column]\n",
        "  freq_g = dict(Counter(data_g))\n",
        "  freq_s = dict(Counter(data_s))\n",
        "  freq_g_k, freq_g_v = np.array(list[freq_g.keys()]), np.array(list[freq_g.values()])\n",
        "  freq_s_k, freq_s_v = np.array(list[freq_s.keys()]), np.array(list[freq_s.values()])\n",
        "  rating_g = freq_s_k\n",
        "  return freq_g_k, freq_s_k"
      ],
      "execution_count": null,
      "outputs": []
    },
    {
      "cell_type": "code",
      "metadata": {
        "id": "8dTP4OvNMibK"
      },
      "source": [
        "rep = {'Very satisfied':5, 'Satisfied':4, 'Neutral':3, 'Unsatisfied':2, 'Very unsatisfied':1}\n",
        "df = df.replace(rep)\n",
        "\n",
        "def weighted_average_m1(distribution, weights):\n",
        "    numerator = sum([distribution[i]*weights[i] for i in range(len(distribution))])\n",
        "    denominator = sum(weights)\n",
        "    return round(numerator/denominator, 2)\n",
        "\n",
        "\n",
        "def weighted_avg(column):\n",
        "  data_g = df[df['class'] == 'G'][column]\n",
        "  data_s = df[df['class'] == 'S'][column]\n",
        "  freq_g,freq_s = dict(Counter(data_g)),dict(Counter(data_s))\n",
        "  freq_g_k, freq_g_v = np.array(list(freq_g.keys())), np.array(list(freq_g.values()))\n",
        "  freq_s_k, freq_s_v = np.array(list(freq_s.keys())), np.array(list(freq_s.values()))\n",
        "  return weighted_average_m1(freq_g_k, freq_g_v),weighted_average_m1(freq_s_k, freq_s_v)"
      ],
      "execution_count": null,
      "outputs": []
    },
    {
      "cell_type": "code",
      "metadata": {
        "id": "XLVYshFFMid4",
        "colab": {
          "base_uri": "https://localhost:8080/"
        },
        "outputId": "2e2cc475-216b-475a-9d3a-e4dd0e33f8d3"
      },
      "source": [
        "column = 'Accessibility and approachibility (Tc)'\n",
        "weighted_avg(column)"
      ],
      "execution_count": null,
      "outputs": [
        {
          "output_type": "execute_result",
          "data": {
            "text/plain": [
              "(3.28, 3.35)"
            ]
          },
          "metadata": {},
          "execution_count": 46
        }
      ]
    },
    {
      "cell_type": "code",
      "metadata": {
        "colab": {
          "base_uri": "https://localhost:8080/",
          "height": 840
        },
        "id": "NbT4lRqoCZ1Y",
        "outputId": "9f7e6175-d4d6-4509-98f1-941c9d7d7e5c"
      },
      "source": [
        "df"
      ],
      "execution_count": null,
      "outputs": [
        {
          "output_type": "execute_result",
          "data": {
            "text/html": [
              "<div>\n",
              "<style scoped>\n",
              "    .dataframe tbody tr th:only-of-type {\n",
              "        vertical-align: middle;\n",
              "    }\n",
              "\n",
              "    .dataframe tbody tr th {\n",
              "        vertical-align: top;\n",
              "    }\n",
              "\n",
              "    .dataframe thead th {\n",
              "        text-align: right;\n",
              "    }\n",
              "</style>\n",
              "<table border=\"1\" class=\"dataframe\">\n",
              "  <thead>\n",
              "    <tr style=\"text-align: right;\">\n",
              "      <th></th>\n",
              "      <th>Submission Date</th>\n",
              "      <th>First Name</th>\n",
              "      <th>Last Name</th>\n",
              "      <th>Department</th>\n",
              "      <th>Led By (G = Generalists (IAS)/ S= Speacialists(All other services)</th>\n",
              "      <th>Civil Service you belong to</th>\n",
              "      <th>Genuine Concern for Others(Tf)</th>\n",
              "      <th>Spends time teaching and coaching (Tf)</th>\n",
              "      <th>Political Sensitivity and Skills(Tc)</th>\n",
              "      <th>Decisiveness Determination and Self Confidence (Tf)</th>\n",
              "      <th>Integrity, trustworthiness, honesty and openness (Tf)</th>\n",
              "      <th>Networks with different offices to get the work done (Tc)</th>\n",
              "      <th>Accessibility and approachibility (Tc)</th>\n",
              "      <th>Encourages me to think more creatively (Tf)</th>\n",
              "      <th>Gets me to rethink never questioned ideas(Tf)</th>\n",
              "      <th>Tell us standards to carry out the work(Tc)</th>\n",
              "      <th>Views me as having different needs, abilities, and aspirations (Tf)</th>\n",
              "      <th>Monitors my performance and keeps track of mistake (Tc)</th>\n",
              "      <th>Will take action before problems are chronic (Tc)</th>\n",
              "      <th>Scope of Corrupt Practices (Tc)</th>\n",
              "      <th>Works out agreements with me (Tf)</th>\n",
              "      <th>Any comment on if you want to be lead by a Generalist or Specialist(Optional).</th>\n",
              "      <th>class</th>\n",
              "    </tr>\n",
              "  </thead>\n",
              "  <tbody>\n",
              "    <tr>\n",
              "      <th>0</th>\n",
              "      <td>2021/09/06 01:58:48</td>\n",
              "      <td>Shashank</td>\n",
              "      <td>Priya</td>\n",
              "      <td>Department of Commerce &amp; Industry</td>\n",
              "      <td>G</td>\n",
              "      <td>IRS</td>\n",
              "      <td>5</td>\n",
              "      <td>5</td>\n",
              "      <td>4</td>\n",
              "      <td>4</td>\n",
              "      <td>4</td>\n",
              "      <td>4</td>\n",
              "      <td>4</td>\n",
              "      <td>4</td>\n",
              "      <td>3</td>\n",
              "      <td>5</td>\n",
              "      <td>5</td>\n",
              "      <td>5</td>\n",
              "      <td>4</td>\n",
              "      <td>4</td>\n",
              "      <td>4</td>\n",
              "      <td>NaN</td>\n",
              "      <td>G</td>\n",
              "    </tr>\n",
              "    <tr>\n",
              "      <th>1</th>\n",
              "      <td>2021/09/06 01:55:54</td>\n",
              "      <td>Naresh</td>\n",
              "      <td>Salecha</td>\n",
              "      <td>Department of Expenditure</td>\n",
              "      <td>G</td>\n",
              "      <td>IRAS</td>\n",
              "      <td>4</td>\n",
              "      <td>4</td>\n",
              "      <td>5</td>\n",
              "      <td>5</td>\n",
              "      <td>4</td>\n",
              "      <td>4</td>\n",
              "      <td>4</td>\n",
              "      <td>4</td>\n",
              "      <td>4</td>\n",
              "      <td>4</td>\n",
              "      <td>5</td>\n",
              "      <td>5</td>\n",
              "      <td>5</td>\n",
              "      <td>2</td>\n",
              "      <td>3</td>\n",
              "      <td>NaN</td>\n",
              "      <td>G</td>\n",
              "    </tr>\n",
              "    <tr>\n",
              "      <th>2</th>\n",
              "      <td>2021/09/06 01:52:18</td>\n",
              "      <td>Tarun</td>\n",
              "      <td>Bajaj</td>\n",
              "      <td>Department of Revenue</td>\n",
              "      <td>S</td>\n",
              "      <td>IAS</td>\n",
              "      <td>4</td>\n",
              "      <td>4</td>\n",
              "      <td>5</td>\n",
              "      <td>5</td>\n",
              "      <td>4</td>\n",
              "      <td>4</td>\n",
              "      <td>4</td>\n",
              "      <td>4</td>\n",
              "      <td>4</td>\n",
              "      <td>5</td>\n",
              "      <td>5</td>\n",
              "      <td>5</td>\n",
              "      <td>5</td>\n",
              "      <td>1</td>\n",
              "      <td>4</td>\n",
              "      <td>NaN</td>\n",
              "      <td>S</td>\n",
              "    </tr>\n",
              "    <tr>\n",
              "      <th>3</th>\n",
              "      <td>2021/09/06 01:47:35</td>\n",
              "      <td>Sanjay</td>\n",
              "      <td>Sharan</td>\n",
              "      <td>Department of Textile</td>\n",
              "      <td>S</td>\n",
              "      <td>IPoS</td>\n",
              "      <td>4</td>\n",
              "      <td>3</td>\n",
              "      <td>4</td>\n",
              "      <td>4</td>\n",
              "      <td>4</td>\n",
              "      <td>4</td>\n",
              "      <td>4</td>\n",
              "      <td>5</td>\n",
              "      <td>5</td>\n",
              "      <td>5</td>\n",
              "      <td>4</td>\n",
              "      <td>5</td>\n",
              "      <td>5</td>\n",
              "      <td>2</td>\n",
              "      <td>3</td>\n",
              "      <td>NaN</td>\n",
              "      <td>S</td>\n",
              "    </tr>\n",
              "    <tr>\n",
              "      <th>4</th>\n",
              "      <td>2021/09/06 01:45:05</td>\n",
              "      <td>Sunila</td>\n",
              "      <td>Bagga</td>\n",
              "      <td>Department of Administrative Reforms and Publi...</td>\n",
              "      <td>G</td>\n",
              "      <td>Indian Engineering Services</td>\n",
              "      <td>3</td>\n",
              "      <td>2</td>\n",
              "      <td>2</td>\n",
              "      <td>3</td>\n",
              "      <td>4</td>\n",
              "      <td>5</td>\n",
              "      <td>3</td>\n",
              "      <td>2</td>\n",
              "      <td>2</td>\n",
              "      <td>3</td>\n",
              "      <td>3</td>\n",
              "      <td>2</td>\n",
              "      <td>2</td>\n",
              "      <td>2</td>\n",
              "      <td>2</td>\n",
              "      <td>NaN</td>\n",
              "      <td>G</td>\n",
              "    </tr>\n",
              "    <tr>\n",
              "      <th>...</th>\n",
              "      <td>...</td>\n",
              "      <td>...</td>\n",
              "      <td>...</td>\n",
              "      <td>...</td>\n",
              "      <td>...</td>\n",
              "      <td>...</td>\n",
              "      <td>...</td>\n",
              "      <td>...</td>\n",
              "      <td>...</td>\n",
              "      <td>...</td>\n",
              "      <td>...</td>\n",
              "      <td>...</td>\n",
              "      <td>...</td>\n",
              "      <td>...</td>\n",
              "      <td>...</td>\n",
              "      <td>...</td>\n",
              "      <td>...</td>\n",
              "      <td>...</td>\n",
              "      <td>...</td>\n",
              "      <td>...</td>\n",
              "      <td>...</td>\n",
              "      <td>...</td>\n",
              "      <td>...</td>\n",
              "    </tr>\n",
              "    <tr>\n",
              "      <th>319</th>\n",
              "      <td>2021/08/31 08:50:10</td>\n",
              "      <td>Bal gangadhar</td>\n",
              "      <td>Singh</td>\n",
              "      <td>Security</td>\n",
              "      <td>S</td>\n",
              "      <td>Government</td>\n",
              "      <td>3</td>\n",
              "      <td>2</td>\n",
              "      <td>4</td>\n",
              "      <td>4</td>\n",
              "      <td>3</td>\n",
              "      <td>4</td>\n",
              "      <td>4</td>\n",
              "      <td>2</td>\n",
              "      <td>4</td>\n",
              "      <td>2</td>\n",
              "      <td>2</td>\n",
              "      <td>4</td>\n",
              "      <td>4</td>\n",
              "      <td>2</td>\n",
              "      <td>2</td>\n",
              "      <td>NaN</td>\n",
              "      <td>S</td>\n",
              "    </tr>\n",
              "    <tr>\n",
              "      <th>320</th>\n",
              "      <td>2021/08/31 08:03:04</td>\n",
              "      <td>sunil</td>\n",
              "      <td>pandey</td>\n",
              "      <td>security</td>\n",
              "      <td>S</td>\n",
              "      <td>security</td>\n",
              "      <td>5</td>\n",
              "      <td>5</td>\n",
              "      <td>5</td>\n",
              "      <td>5</td>\n",
              "      <td>5</td>\n",
              "      <td>5</td>\n",
              "      <td>5</td>\n",
              "      <td>5</td>\n",
              "      <td>5</td>\n",
              "      <td>5</td>\n",
              "      <td>5</td>\n",
              "      <td>5</td>\n",
              "      <td>5</td>\n",
              "      <td>5</td>\n",
              "      <td>5</td>\n",
              "      <td>NaN</td>\n",
              "      <td>S</td>\n",
              "    </tr>\n",
              "    <tr>\n",
              "      <th>321</th>\n",
              "      <td>2021/08/31 06:23:40</td>\n",
              "      <td>Chandan</td>\n",
              "      <td>Sinha</td>\n",
              "      <td>Railway protection Force</td>\n",
              "      <td>S</td>\n",
              "      <td>All india Group' A' Services</td>\n",
              "      <td>5</td>\n",
              "      <td>5</td>\n",
              "      <td>5</td>\n",
              "      <td>5</td>\n",
              "      <td>5</td>\n",
              "      <td>5</td>\n",
              "      <td>5</td>\n",
              "      <td>4</td>\n",
              "      <td>5</td>\n",
              "      <td>5</td>\n",
              "      <td>5</td>\n",
              "      <td>5</td>\n",
              "      <td>5</td>\n",
              "      <td>1</td>\n",
              "      <td>5</td>\n",
              "      <td>The above mentioned facts are enough for a goo...</td>\n",
              "      <td>S</td>\n",
              "    </tr>\n",
              "    <tr>\n",
              "      <th>322</th>\n",
              "      <td>2021/08/31 04:13:49</td>\n",
              "      <td>Harvinder</td>\n",
              "      <td>Singh</td>\n",
              "      <td>Indian Railways</td>\n",
              "      <td>S</td>\n",
              "      <td>Security</td>\n",
              "      <td>4</td>\n",
              "      <td>5</td>\n",
              "      <td>5</td>\n",
              "      <td>5</td>\n",
              "      <td>5</td>\n",
              "      <td>5</td>\n",
              "      <td>4</td>\n",
              "      <td>4</td>\n",
              "      <td>5</td>\n",
              "      <td>5</td>\n",
              "      <td>4</td>\n",
              "      <td>5</td>\n",
              "      <td>5</td>\n",
              "      <td>3</td>\n",
              "      <td>5</td>\n",
              "      <td>NaN</td>\n",
              "      <td>S</td>\n",
              "    </tr>\n",
              "    <tr>\n",
              "      <th>323</th>\n",
              "      <td>2021/08/31 02:50:31</td>\n",
              "      <td>Rakesh</td>\n",
              "      <td>Kumar</td>\n",
              "      <td>Ministry of Education</td>\n",
              "      <td>G</td>\n",
              "      <td>Policy and Academic Planning</td>\n",
              "      <td>2</td>\n",
              "      <td>2</td>\n",
              "      <td>3</td>\n",
              "      <td>5</td>\n",
              "      <td>4</td>\n",
              "      <td>5</td>\n",
              "      <td>5</td>\n",
              "      <td>4</td>\n",
              "      <td>4</td>\n",
              "      <td>5</td>\n",
              "      <td>4</td>\n",
              "      <td>2</td>\n",
              "      <td>4</td>\n",
              "      <td>1</td>\n",
              "      <td>5</td>\n",
              "      <td>NaN</td>\n",
              "      <td>G</td>\n",
              "    </tr>\n",
              "  </tbody>\n",
              "</table>\n",
              "<p>324 rows × 23 columns</p>\n",
              "</div>"
            ],
            "text/plain": [
              "         Submission Date  ... class\n",
              "0    2021/09/06 01:58:48  ...     G\n",
              "1    2021/09/06 01:55:54  ...     G\n",
              "2    2021/09/06 01:52:18  ...     S\n",
              "3    2021/09/06 01:47:35  ...     S\n",
              "4    2021/09/06 01:45:05  ...     G\n",
              "..                   ...  ...   ...\n",
              "319  2021/08/31 08:50:10  ...     S\n",
              "320  2021/08/31 08:03:04  ...     S\n",
              "321  2021/08/31 06:23:40  ...     S\n",
              "322  2021/08/31 04:13:49  ...     S\n",
              "323  2021/08/31 02:50:31  ...     G\n",
              "\n",
              "[324 rows x 23 columns]"
            ]
          },
          "metadata": {},
          "execution_count": 14
        }
      ]
    },
    {
      "cell_type": "code",
      "metadata": {
        "id": "m1CtCglYh0jZ"
      },
      "source": [
        "from collections import Counter\n"
      ],
      "execution_count": null,
      "outputs": []
    },
    {
      "cell_type": "code",
      "metadata": {
        "id": "R8zBgzvyiLH8"
      },
      "source": [
        "data = data.iloc[:,4:].drop(\"Civil Service you belong to\",axis=1)"
      ],
      "execution_count": null,
      "outputs": []
    },
    {
      "cell_type": "code",
      "metadata": {
        "id": "NWYF3Ecsi1Uh"
      },
      "source": [
        "import seaborn as sns"
      ],
      "execution_count": null,
      "outputs": []
    },
    {
      "cell_type": "code",
      "metadata": {
        "colab": {
          "base_uri": "https://localhost:8080/",
          "height": 350
        },
        "id": "dOjVvQVsi9Cv",
        "outputId": "7c0bbab6-57c9-4aa5-d0b5-89dff1f149e4"
      },
      "source": [
        "sns.countplot(data[\"Led By (G = Generalists (IAS)/ S= Speacialists(All other services)\"])"
      ],
      "execution_count": null,
      "outputs": [
        {
          "output_type": "stream",
          "name": "stderr",
          "text": [
            "/usr/local/lib/python3.7/dist-packages/seaborn/_decorators.py:43: FutureWarning: Pass the following variable as a keyword arg: x. From version 0.12, the only valid positional argument will be `data`, and passing other arguments without an explicit keyword will result in an error or misinterpretation.\n",
            "  FutureWarning\n"
          ]
        },
        {
          "output_type": "execute_result",
          "data": {
            "text/plain": [
              "<matplotlib.axes._subplots.AxesSubplot at 0x7f638fee5150>"
            ]
          },
          "metadata": {},
          "execution_count": 19
        },
        {
          "output_type": "display_data",
          "data": {
            "image/png": "[encoded data removed]",
            "text/plain": [
              "<Figure size 432x288 with 1 Axes>"
            ]
          },
          "metadata": {
            "needs_background": "light"
          }
        }
      ]
    },
    {
      "cell_type": "code",
      "metadata": {
        "colab": {
          "base_uri": "https://localhost:8080/"
        },
        "id": "z5ydEXJxjuVl",
        "outputId": "7ee1eb1c-4f72-4187-8751-f8c6f90cde86"
      },
      "source": [
        "Counter(data[\"Led By (G = Generalists (IAS)/ S= Speacialists(All other services)\"])"
      ],
      "execution_count": null,
      "outputs": [
        {
          "output_type": "execute_result",
          "data": {
            "text/plain": [
              "Counter({'G': 177, 'S': 147})"
            ]
          },
          "metadata": {},
          "execution_count": 20
        }
      ]
    },
    {
      "cell_type": "code",
      "metadata": {
        "colab": {
          "base_uri": "https://localhost:8080/"
        },
        "id": "xY8DlwTbjnSu",
        "outputId": "94735dd2-2169-4472-8a7a-a3b5bf6d3c40"
      },
      "source": [
        "data[\"Genuine Concern for Others(Tf)\"].unique()"
      ],
      "execution_count": null,
      "outputs": [
        {
          "output_type": "execute_result",
          "data": {
            "text/plain": [
              "array(['Very satisfied', 'Satisfied', 'Neutral', 'Unsatisfied',\n",
              "       'Very unsatisfied'], dtype=object)"
            ]
          },
          "metadata": {},
          "execution_count": 21
        }
      ]
    },
    {
      "cell_type": "code",
      "metadata": {
        "id": "f_BomKXnjoOq"
      },
      "source": [
        "rep = {'Very satisfied':5, 'Satisfied':4, 'Neutral':3, 'Unsatisfied':2,\n",
        "       'Very unsatisfied':1}"
      ],
      "execution_count": null,
      "outputs": []
    },
    {
      "cell_type": "code",
      "metadata": {
        "id": "7GzgRTPlk8PV"
      },
      "source": [
        "data_ = data.replace(rep)"
      ],
      "execution_count": null,
      "outputs": []
    },
    {
      "cell_type": "code",
      "metadata": {
        "colab": {
          "base_uri": "https://localhost:8080/",
          "height": 819
        },
        "id": "x2ASloxsk_gg",
        "outputId": "67af9b50-c5fd-4c85-a520-2f164367d150"
      },
      "source": [
        "import matplotlib.pyplot as plt\n",
        "import numpy as np\n",
        "df = data_.iloc[:,1:]\n",
        "corr=df.corr(method=\"spearman\")\n",
        "plt.figure(figsize=(12,8))\n",
        "mask = np.zeros_like(corr)\n",
        "mask[np.triu_indices_from(mask)] = True\n",
        "sns.heatmap(corr, annot=True,mask=mask, fmt='.1g', linewidths=0, linecolor='white')"
      ],
      "execution_count": null,
      "outputs": [
        {
          "output_type": "execute_result",
          "data": {
            "text/plain": [
              "<matplotlib.axes._subplots.AxesSubplot at 0x7f63816b3390>"
            ]
          },
          "metadata": {},
          "execution_count": 24
        },
        {
          "output_type": "display_data",
          "data": {
            "image/png": "[encoded data removed]",
            "text/plain": [
              "<Figure size 864x576 with 2 Axes>"
            ]
          },
          "metadata": {
            "needs_background": "light"
          }
        }
      ]
    },
    {
      "cell_type": "code",
      "metadata": {
        "id": "CzCOFUnSwKBO"
      },
      "source": [
        "import matplotlib.pyplot as plt\n",
        "import numpy as np\n",
        "df = data_.iloc[:,1:]\n",
        "corr=df.corr(method=\"pearson\")\n",
        "mask = np.zeros_like(corr)"
      ],
      "execution_count": null,
      "outputs": []
    },
    {
      "cell_type": "code",
      "metadata": {
        "colab": {
          "base_uri": "https://localhost:8080/",
          "height": 1000
        },
        "id": "mZ2eKnVIwPxQ",
        "outputId": "73bcd37c-7728-438d-883c-5cef89fce210"
      },
      "source": [
        "corr"
      ],
      "execution_count": null,
      "outputs": [
        {
          "output_type": "execute_result",
          "data": {
            "text/html": [
              "<div>\n",
              "<style scoped>\n",
              "    .dataframe tbody tr th:only-of-type {\n",
              "        vertical-align: middle;\n",
              "    }\n",
              "\n",
              "    .dataframe tbody tr th {\n",
              "        vertical-align: top;\n",
              "    }\n",
              "\n",
              "    .dataframe thead th {\n",
              "        text-align: right;\n",
              "    }\n",
              "</style>\n",
              "<table border=\"1\" class=\"dataframe\">\n",
              "  <thead>\n",
              "    <tr style=\"text-align: right;\">\n",
              "      <th></th>\n",
              "      <th>Genuine Concern for Others(Tf)</th>\n",
              "      <th>Spends time teaching and coaching (Tf)</th>\n",
              "      <th>Political Sensitivity and Skills(Tc)</th>\n",
              "      <th>Decisiveness Determination and Self Confidence (Tf)</th>\n",
              "      <th>Integrity, trustworthiness, honesty and openness (Tf)</th>\n",
              "      <th>Networks with different offices to get the work done (Tc)</th>\n",
              "      <th>Accessibility and approachibility (Tc)</th>\n",
              "      <th>Encourages me to think more creatively (Tf)</th>\n",
              "      <th>Gets me to rethink never questioned ideas(Tf)</th>\n",
              "      <th>Tell us standards to carry out the work(Tc)</th>\n",
              "      <th>Views me as having different needs, abilities, and aspirations (Tf)</th>\n",
              "      <th>Monitors my performance and keeps track of mistake (Tc)</th>\n",
              "      <th>Will take action before problems are chronic (Tc)</th>\n",
              "      <th>Scope of Corrupt Practices (Tc)</th>\n",
              "      <th>Works out agreements with me (Tf)</th>\n",
              "    </tr>\n",
              "  </thead>\n",
              "  <tbody>\n",
              "    <tr>\n",
              "      <th>Genuine Concern for Others(Tf)</th>\n",
              "      <td>1.000000</td>\n",
              "      <td>0.686144</td>\n",
              "      <td>0.613486</td>\n",
              "      <td>0.651917</td>\n",
              "      <td>0.610703</td>\n",
              "      <td>0.207899</td>\n",
              "      <td>0.581608</td>\n",
              "      <td>0.652971</td>\n",
              "      <td>0.567696</td>\n",
              "      <td>0.610164</td>\n",
              "      <td>0.612811</td>\n",
              "      <td>0.551308</td>\n",
              "      <td>0.534755</td>\n",
              "      <td>0.349268</td>\n",
              "      <td>0.487271</td>\n",
              "    </tr>\n",
              "    <tr>\n",
              "      <th>Spends time teaching and coaching (Tf)</th>\n",
              "      <td>0.686144</td>\n",
              "      <td>1.000000</td>\n",
              "      <td>0.651937</td>\n",
              "      <td>0.644341</td>\n",
              "      <td>0.595194</td>\n",
              "      <td>0.206352</td>\n",
              "      <td>0.569038</td>\n",
              "      <td>0.581551</td>\n",
              "      <td>0.541313</td>\n",
              "      <td>0.546990</td>\n",
              "      <td>0.591247</td>\n",
              "      <td>0.576344</td>\n",
              "      <td>0.510366</td>\n",
              "      <td>0.390452</td>\n",
              "      <td>0.523075</td>\n",
              "    </tr>\n",
              "    <tr>\n",
              "      <th>Political Sensitivity and Skills(Tc)</th>\n",
              "      <td>0.613486</td>\n",
              "      <td>0.651937</td>\n",
              "      <td>1.000000</td>\n",
              "      <td>0.661468</td>\n",
              "      <td>0.578238</td>\n",
              "      <td>0.117613</td>\n",
              "      <td>0.625507</td>\n",
              "      <td>0.570727</td>\n",
              "      <td>0.592357</td>\n",
              "      <td>0.598687</td>\n",
              "      <td>0.599848</td>\n",
              "      <td>0.581311</td>\n",
              "      <td>0.577959</td>\n",
              "      <td>0.344231</td>\n",
              "      <td>0.480128</td>\n",
              "    </tr>\n",
              "    <tr>\n",
              "      <th>Decisiveness Determination and Self Confidence (Tf)</th>\n",
              "      <td>0.651917</td>\n",
              "      <td>0.644341</td>\n",
              "      <td>0.661468</td>\n",
              "      <td>1.000000</td>\n",
              "      <td>0.667170</td>\n",
              "      <td>0.192716</td>\n",
              "      <td>0.624899</td>\n",
              "      <td>0.659412</td>\n",
              "      <td>0.549834</td>\n",
              "      <td>0.632896</td>\n",
              "      <td>0.634970</td>\n",
              "      <td>0.581030</td>\n",
              "      <td>0.631116</td>\n",
              "      <td>0.383719</td>\n",
              "      <td>0.573903</td>\n",
              "    </tr>\n",
              "    <tr>\n",
              "      <th>Integrity, trustworthiness, honesty and openness (Tf)</th>\n",
              "      <td>0.610703</td>\n",
              "      <td>0.595194</td>\n",
              "      <td>0.578238</td>\n",
              "      <td>0.667170</td>\n",
              "      <td>1.000000</td>\n",
              "      <td>0.204042</td>\n",
              "      <td>0.586570</td>\n",
              "      <td>0.591419</td>\n",
              "      <td>0.448559</td>\n",
              "      <td>0.629833</td>\n",
              "      <td>0.610291</td>\n",
              "      <td>0.578836</td>\n",
              "      <td>0.645374</td>\n",
              "      <td>0.361282</td>\n",
              "      <td>0.500188</td>\n",
              "    </tr>\n",
              "    <tr>\n",
              "      <th>Networks with different offices to get the work done (Tc)</th>\n",
              "      <td>0.207899</td>\n",
              "      <td>0.206352</td>\n",
              "      <td>0.117613</td>\n",
              "      <td>0.192716</td>\n",
              "      <td>0.204042</td>\n",
              "      <td>1.000000</td>\n",
              "      <td>0.211379</td>\n",
              "      <td>0.039646</td>\n",
              "      <td>-0.052054</td>\n",
              "      <td>0.062142</td>\n",
              "      <td>0.158808</td>\n",
              "      <td>0.234505</td>\n",
              "      <td>0.190315</td>\n",
              "      <td>0.096595</td>\n",
              "      <td>0.165703</td>\n",
              "    </tr>\n",
              "    <tr>\n",
              "      <th>Accessibility and approachibility (Tc)</th>\n",
              "      <td>0.581608</td>\n",
              "      <td>0.569038</td>\n",
              "      <td>0.625507</td>\n",
              "      <td>0.624899</td>\n",
              "      <td>0.586570</td>\n",
              "      <td>0.211379</td>\n",
              "      <td>1.000000</td>\n",
              "      <td>0.649914</td>\n",
              "      <td>0.563336</td>\n",
              "      <td>0.621871</td>\n",
              "      <td>0.617777</td>\n",
              "      <td>0.600824</td>\n",
              "      <td>0.595103</td>\n",
              "      <td>0.360992</td>\n",
              "      <td>0.499825</td>\n",
              "    </tr>\n",
              "    <tr>\n",
              "      <th>Encourages me to think more creatively (Tf)</th>\n",
              "      <td>0.652971</td>\n",
              "      <td>0.581551</td>\n",
              "      <td>0.570727</td>\n",
              "      <td>0.659412</td>\n",
              "      <td>0.591419</td>\n",
              "      <td>0.039646</td>\n",
              "      <td>0.649914</td>\n",
              "      <td>1.000000</td>\n",
              "      <td>0.708368</td>\n",
              "      <td>0.670834</td>\n",
              "      <td>0.624141</td>\n",
              "      <td>0.600558</td>\n",
              "      <td>0.574283</td>\n",
              "      <td>0.391785</td>\n",
              "      <td>0.576073</td>\n",
              "    </tr>\n",
              "    <tr>\n",
              "      <th>Gets me to rethink never questioned ideas(Tf)</th>\n",
              "      <td>0.567696</td>\n",
              "      <td>0.541313</td>\n",
              "      <td>0.592357</td>\n",
              "      <td>0.549834</td>\n",
              "      <td>0.448559</td>\n",
              "      <td>-0.052054</td>\n",
              "      <td>0.563336</td>\n",
              "      <td>0.708368</td>\n",
              "      <td>1.000000</td>\n",
              "      <td>0.643571</td>\n",
              "      <td>0.618182</td>\n",
              "      <td>0.571967</td>\n",
              "      <td>0.611750</td>\n",
              "      <td>0.339810</td>\n",
              "      <td>0.552264</td>\n",
              "    </tr>\n",
              "    <tr>\n",
              "      <th>Tell us standards to carry out the work(Tc)</th>\n",
              "      <td>0.610164</td>\n",
              "      <td>0.546990</td>\n",
              "      <td>0.598687</td>\n",
              "      <td>0.632896</td>\n",
              "      <td>0.629833</td>\n",
              "      <td>0.062142</td>\n",
              "      <td>0.621871</td>\n",
              "      <td>0.670834</td>\n",
              "      <td>0.643571</td>\n",
              "      <td>1.000000</td>\n",
              "      <td>0.644379</td>\n",
              "      <td>0.605218</td>\n",
              "      <td>0.620241</td>\n",
              "      <td>0.377328</td>\n",
              "      <td>0.554347</td>\n",
              "    </tr>\n",
              "    <tr>\n",
              "      <th>Views me as having different needs, abilities, and aspirations (Tf)</th>\n",
              "      <td>0.612811</td>\n",
              "      <td>0.591247</td>\n",
              "      <td>0.599848</td>\n",
              "      <td>0.634970</td>\n",
              "      <td>0.610291</td>\n",
              "      <td>0.158808</td>\n",
              "      <td>0.617777</td>\n",
              "      <td>0.624141</td>\n",
              "      <td>0.618182</td>\n",
              "      <td>0.644379</td>\n",
              "      <td>1.000000</td>\n",
              "      <td>0.602936</td>\n",
              "      <td>0.609007</td>\n",
              "      <td>0.414312</td>\n",
              "      <td>0.617249</td>\n",
              "    </tr>\n",
              "    <tr>\n",
              "      <th>Monitors my performance and keeps track of mistake (Tc)</th>\n",
              "      <td>0.551308</td>\n",
              "      <td>0.576344</td>\n",
              "      <td>0.581311</td>\n",
              "      <td>0.581030</td>\n",
              "      <td>0.578836</td>\n",
              "      <td>0.234505</td>\n",
              "      <td>0.600824</td>\n",
              "      <td>0.600558</td>\n",
              "      <td>0.571967</td>\n",
              "      <td>0.605218</td>\n",
              "      <td>0.602936</td>\n",
              "      <td>1.000000</td>\n",
              "      <td>0.647384</td>\n",
              "      <td>0.375707</td>\n",
              "      <td>0.559456</td>\n",
              "    </tr>\n",
              "    <tr>\n",
              "      <th>Will take action before problems are chronic (Tc)</th>\n",
              "      <td>0.534755</td>\n",
              "      <td>0.510366</td>\n",
              "      <td>0.577959</td>\n",
              "      <td>0.631116</td>\n",
              "      <td>0.645374</td>\n",
              "      <td>0.190315</td>\n",
              "      <td>0.595103</td>\n",
              "      <td>0.574283</td>\n",
              "      <td>0.611750</td>\n",
              "      <td>0.620241</td>\n",
              "      <td>0.609007</td>\n",
              "      <td>0.647384</td>\n",
              "      <td>1.000000</td>\n",
              "      <td>0.416941</td>\n",
              "      <td>0.630238</td>\n",
              "    </tr>\n",
              "    <tr>\n",
              "      <th>Scope of Corrupt Practices (Tc)</th>\n",
              "      <td>0.349268</td>\n",
              "      <td>0.390452</td>\n",
              "      <td>0.344231</td>\n",
              "      <td>0.383719</td>\n",
              "      <td>0.361282</td>\n",
              "      <td>0.096595</td>\n",
              "      <td>0.360992</td>\n",
              "      <td>0.391785</td>\n",
              "      <td>0.339810</td>\n",
              "      <td>0.377328</td>\n",
              "      <td>0.414312</td>\n",
              "      <td>0.375707</td>\n",
              "      <td>0.416941</td>\n",
              "      <td>1.000000</td>\n",
              "      <td>0.516360</td>\n",
              "    </tr>\n",
              "    <tr>\n",
              "      <th>Works out agreements with me (Tf)</th>\n",
              "      <td>0.487271</td>\n",
              "      <td>0.523075</td>\n",
              "      <td>0.480128</td>\n",
              "      <td>0.573903</td>\n",
              "      <td>0.500188</td>\n",
              "      <td>0.165703</td>\n",
              "      <td>0.499825</td>\n",
              "      <td>0.576073</td>\n",
              "      <td>0.552264</td>\n",
              "      <td>0.554347</td>\n",
              "      <td>0.617249</td>\n",
              "      <td>0.559456</td>\n",
              "      <td>0.630238</td>\n",
              "      <td>0.516360</td>\n",
              "      <td>1.000000</td>\n",
              "    </tr>\n",
              "  </tbody>\n",
              "</table>\n",
              "</div>"
            ],
            "text/plain": [
              "                                                    Genuine Concern for Others(Tf)  ...  Works out agreements with me (Tf)\n",
              "Genuine Concern for Others(Tf)                                            1.000000  ...                           0.487271\n",
              "Spends time teaching and coaching (Tf)                                    0.686144  ...                           0.523075\n",
              "Political Sensitivity and Skills(Tc)                                      0.613486  ...                           0.480128\n",
              "Decisiveness Determination and Self Confidence ...                        0.651917  ...                           0.573903\n",
              "Integrity, trustworthiness, honesty and opennes...                        0.610703  ...                           0.500188\n",
              "Networks with different offices to get the work...                        0.207899  ...                           0.165703\n",
              "Accessibility and approachibility (Tc)                                    0.581608  ...                           0.499825\n",
              "Encourages me to think more creatively (Tf)                               0.652971  ...                           0.576073\n",
              "Gets me to rethink never questioned ideas(Tf)                             0.567696  ...                           0.552264\n",
              "Tell us standards to carry out the work(Tc)                               0.610164  ...                           0.554347\n",
              "Views me as having different needs, abilities, ...                        0.612811  ...                           0.617249\n",
              "Monitors my performance and keeps track of mist...                        0.551308  ...                           0.559456\n",
              "Will take action before problems are chronic (Tc)                         0.534755  ...                           0.630238\n",
              "Scope of Corrupt Practices (Tc)                                           0.349268  ...                           0.516360\n",
              "Works out agreements with me (Tf)                                         0.487271  ...                           1.000000\n",
              "\n",
              "[15 rows x 15 columns]"
            ]
          },
          "metadata": {},
          "execution_count": 27
        }
      ]
    },
    {
      "cell_type": "code",
      "metadata": {
        "id": "m0RZ0pIPoR0J"
      },
      "source": [
        "X = df\n",
        "Y = data_.iloc[:,0]"
      ],
      "execution_count": null,
      "outputs": []
    },
    {
      "cell_type": "code",
      "metadata": {
        "colab": {
          "base_uri": "https://localhost:8080/",
          "height": 281
        },
        "id": "QkpUGsybI3Ct",
        "outputId": "1db8b186-bd69-46b4-bea3-9134abe89379"
      },
      "source": [
        "import numpy as np\n",
        "import matplotlib.pyplot as plt\n",
        "\n",
        "  \n",
        "# creating the dataset\n",
        "data = {'Specialist':2.90, 'Generalist':2.93}\n",
        "courses = list(data.keys())\n",
        "values = list(data.values())\n",
        "  \n",
        "#fig = plt.figure(figsize = (10, 5))\n",
        " \n",
        "# creating the bar plot\n",
        "plt.bar(courses, values, color ='maroon', width = 0.2)\n",
        "plt.ylabel(\"Weighted average of the parameter\")\n",
        "plt.title(\"Parameter: Scope of corrupt practices\")\n",
        "plt.show()"
      ],
      "execution_count": null,
      "outputs": [
        {
          "output_type": "display_data",
          "data": {
            "image/png": "[encoded data removed]",
            "text/plain": [
              "<Figure size 432x288 with 1 Axes>"
            ]
          },
          "metadata": {
            "needs_background": "light"
          }
        }
      ]
    },
    {
      "cell_type": "markdown",
      "metadata": {
        "id": "NT_pdrgNpmJ6"
      },
      "source": [
        ""
      ]
    },
    {
      "cell_type": "code",
      "metadata": {
        "id": "ynzQ1ZnrAfdD"
      },
      "source": [
        "path = \"C://Users/preks/Downloads/HRD.xlsx\"\n",
        "import pandas as pd"
      ],
      "execution_count": null,
      "outputs": []
    },
    {
      "cell_type": "code",
      "metadata": {
        "id": "-LVQWLMdyfjy"
      },
      "source": [
        "data=pd.read_excel(path)\n",
        "data[\"Transformational\"] = ((data.iloc[:,:10]).iloc[:,2:]).mean(axis=1)\n",
        "data[\"Transactional\"]=(data.iloc[:,10:-1]).mean(axis=1)\n",
        "feat_select = [\"Led By (G = Generalists (IAS)/ S= Speacialists(All other services)\",\"Transformational\",\"Transactional\"]"
      ],
      "execution_count": null,
      "outputs": []
    },
    {
      "cell_type": "code",
      "metadata": {
        "id": "sWaBvhnvymUW"
      },
      "source": [
        "data_trans = data[feat_select]\n",
        "data_S.mean()\n",
        "data_G.mean()\n",
        "data_G.std()\n",
        "data_S.std()"
      ],
      "execution_count": null,
      "outputs": []
    },
    {
      "cell_type": "code",
      "metadata": {
        "id": "kNhAzH78zHPo"
      },
      "source": [
        "data_G.shape\n",
        "data_S.shape"
      ],
      "execution_count": null,
      "outputs": []
    },
    {
      "cell_type": "code",
      "metadata": {
        "id": "iwB4MTl4zLMo"
      },
      "source": [
        "data_trans.corr()\n",
        "data_G.corr()\n",
        "data_S.corr()"
      ],
      "execution_count": null,
      "outputs": []
    },
    {
      "cell_type": "code",
      "metadata": {
        "id": "PReOBiKAzPW-"
      },
      "source": [
        "factor=[]\n",
        "for i,j in zip(data_trans[\"Transformational\"],data_trans[\"Transactional\"]):\n",
        "  if i>j:\n",
        "    factor.append(\"TF\")\n",
        "  else:\n",
        "    factor.append(\"TC\")"
      ],
      "execution_count": null,
      "outputs": []
    },
    {
      "cell_type": "code",
      "metadata": {
        "id": "Vyqh91YLzRpC"
      },
      "source": [
        "data_trans[\"Role\"]=factor\n",
        "from collections import Counter\n",
        "G = Counter(data_trans[data_trans[\"Led By (G = Generalists (IAS)/ S= Speacialists(All other services)\"]==\"G\"][\"Role\"])\n",
        "S = Counter(data_trans[data_trans[\"Led By (G = Generalists (IAS)/ S= Speacialists(All other services)\"]==\"S\"][\"Role\"])\n",
        "G_vals=list(dict(G).values())\n",
        "print(G_vals)"
      ],
      "execution_count": null,
      "outputs": []
    },
    {
      "cell_type": "code",
      "metadata": {
        "id": "O2Yv6ep-zZJe"
      },
      "source": [
        "S_vals=list(dict(S).values())\n",
        "print(S_vals)"
      ],
      "execution_count": null,
      "outputs": []
    },
    {
      "cell_type": "code",
      "metadata": {
        "id": "EwyR7Hq6zbON"
      },
      "source": [
        "x_val = list(dict(G).keys())"
      ],
      "execution_count": null,
      "outputs": []
    },
    {
      "cell_type": "code",
      "metadata": {
        "id": "OUbey8YBzdT2"
      },
      "source": [
        "import matplotlib.pyplot as plt\n",
        "import numpy as np\n",
        "\n",
        "def addlabels(x,y):\n",
        "    for i in range(len(x)):\n",
        "        plt.text(i,y[i],y[i])\n",
        "\n",
        "n = 2\n",
        "r = np.arange(n)\n",
        "x = np.array([*range(len(x_val))])\n",
        "# create data\n",
        "width = 0.25\n",
        "plt.xticks(r + width/2,['Generalists','Speacialists'])\n",
        "\n",
        "\n",
        "# plot data in grouped manner of bar type\n",
        "plt.bar(x, G_vals, width,label=\"TF\")\n",
        "plt.bar(x+width, S_vals, width,label=\"TC\")\n",
        "plt.ylabel(\"Frequency of participants\")\n",
        "#plt.title(\"Classification of Generalists & Speacialists on the basis of Transformational (TF) & Transactional (TC)\")\n",
        "plt.legend()\n",
        "plt.plot()"
      ],
      "execution_count": null,
      "outputs": []
    },
    {
      "cell_type": "code",
      "metadata": {
        "id": "FHcb7wodzhqk"
      },
      "source": [
        "import seaborn as sns\n",
        "from collections import Counter\n",
        "def count_class(column):\n",
        "  d = dict((data.groupby((\"Led By (G = Generalists (IAS)/ S= Speacialists(All other services)\"))[column].apply(len)))\n",
        "  print (d)\n",
        "  sns.barplot(x=list(d.keys()),y=list(d.values()))\n",
        "  plt.title(f\"Frequency plot of {column}\")\n",
        "  return d"
      ],
      "execution_count": null,
      "outputs": []
    },
    {
      "cell_type": "code",
      "metadata": {
        "id": "trq9oOM3zjo-"
      },
      "source": [
        "count_class('Will take action before problems are chronic (Tc)')"
      ],
      "execution_count": null,
      "outputs": []
    }
  ]
}