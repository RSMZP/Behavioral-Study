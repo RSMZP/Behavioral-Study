{
  "nbformat": 4,
  "nbformat_minor": 0,
  "metadata": {
    "colab": {
      "name": "Civil Servants in India.ipynb",
      "provenance": [],
      "include_colab_link": true
    },
    "kernelspec": {
      "name": "python3",
      "display_name": "Python 3"
    },
    "language_info": {
      "name": "python"
    }
  },
  "cells": [
    {
      "cell_type": "markdown",
      "metadata": {
        "id": "view-in-github",
        "colab_type": "text"
      },
      "source": [
        "<a href=\"https://colab.research.google.com/github/RSMZP/Behavioral-Study/blob/main/Civil_Servants_in_India.ipynb\" target=\"_parent\"><img src=\"https://colab.research.google.com/assets/colab-badge.svg\" alt=\"Open In Colab\"/></a>"
      ]
    },
    {
      "cell_type": "code",
      "metadata": {
        "id": "ro90O5u9giWh"
      },
      "source": [
        "import pandas as pd"
      ],
      "execution_count": null,
      "outputs": []
    },
    {
      "cell_type": "code",
      "metadata": {
        "id": "EegRKMo-gw16"
      },
      "source": [
        "path = \"/content/Parameters.xlsx\""
      ],
      "execution_count": null,
      "outputs": []
    },
    {
      "cell_type": "code",
      "metadata": {
        "id": "lYk5KvuphJUU"
      },
      "source": [
        "data = pd.read_excel(path)"
      ],
      "execution_count": null,
      "outputs": []
    },
    {
      "cell_type": "code",
      "metadata": {
        "colab": {
          "base_uri": "https://localhost:8080/"
        },
        "id": "tqHJG-8EhK5x",
        "outputId": "28876450-59f7-4f6f-fafd-676d503bce2b"
      },
      "source": [
        "data.columns"
      ],
      "execution_count": null,
      "outputs": [
        {
          "output_type": "execute_result",
          "data": {
            "text/plain": [
              "Index(['Submission Date', 'First Name', 'Last Name', 'Department',\n",
              "       'Led By (G = Generalists (IAS)/ S= Speacialists(All other services)',\n",
              "       'Civil Service you belong to', 'Genuine Concern for Others(Tf)',\n",
              "       'Spends time teaching and coaching (Tf)',\n",
              "       'Political Sensitivity and Skills(Tc)',\n",
              "       'Decisiveness Determination and Self Confidence (Tf)',\n",
              "       'Integrity, trustworthiness, honesty and openness (Tf)',\n",
              "       'Networks with different offices to get the work done (Tc)',\n",
              "       'Accessibility and approachibility (Tc)',\n",
              "       'Encourages me to think more creatively (Tf)',\n",
              "       'Gets me to rethink never questioned ideas(Tf)',\n",
              "       'Tell us standards to carry out the work(Tc)',\n",
              "       'Views me as having different needs, abilities, and aspirations (Tf)',\n",
              "       'Monitors my performance and keeps track of mistake (Tc)',\n",
              "       'Will take action before problems are chronic (Tc)',\n",
              "       'Scope of Corrupt Practices (Tc)', 'Works out agreements with me (Tf)',\n",
              "       'Any comment on if you want to be lead by a Generalist or Specialist(Optional).'],\n",
              "      dtype='object')"
            ]
          },
          "metadata": {},
          "execution_count": 7
        }
      ]
    },
    {
      "cell_type": "code",
      "metadata": {
        "colab": {
          "base_uri": "https://localhost:8080/"
        },
        "id": "pEn2vEhxhWLD",
        "outputId": "fbbb9c70-e3c3-49ec-ba87-94b782634269"
      },
      "source": [
        "data.shape"
      ],
      "execution_count": null,
      "outputs": [
        {
          "output_type": "execute_result",
          "data": {
            "text/plain": [
              "(324, 22)"
            ]
          },
          "metadata": {},
          "execution_count": 8
        }
      ]
    },
    {
      "cell_type": "code",
      "metadata": {
        "colab": {
          "base_uri": "https://localhost:8080/"
        },
        "id": "DefYlvbRhXyW",
        "outputId": "d1512267-fbe8-4100-cd9c-2ee9b55b80f9"
      },
      "source": [
        "data.info()"
      ],
      "execution_count": null,
      "outputs": [
        {
          "output_type": "stream",
          "name": "stdout",
          "text": [
            "<class 'pandas.core.frame.DataFrame'>\n",
            "RangeIndex: 324 entries, 0 to 323\n",
            "Data columns (total 22 columns):\n",
            " #   Column                                                                          Non-Null Count  Dtype \n",
            "---  ------                                                                          --------------  ----- \n",
            " 0   Submission Date                                                                 324 non-null    object\n",
            " 1   First Name                                                                      324 non-null    object\n",
            " 2   Last Name                                                                       324 non-null    object\n",
            " 3   Department                                                                      324 non-null    object\n",
            " 4   Led By (G = Generalists (IAS)/ S= Speacialists(All other services)              324 non-null    object\n",
            " 5   Civil Service you belong to                                                     324 non-null    object\n",
            " 6   Genuine Concern for Others(Tf)                                                  324 non-null    object\n",
            " 7   Spends time teaching and coaching (Tf)                                          324 non-null    object\n",
            " 8   Political Sensitivity and Skills(Tc)                                            324 non-null    object\n",
            " 9   Decisiveness Determination and Self Confidence (Tf)                             324 non-null    object\n",
            " 10  Integrity, trustworthiness, honesty and openness (Tf)                           324 non-null    object\n",
            " 11  Networks with different offices to get the work done (Tc)                       324 non-null    object\n",
            " 12  Accessibility and approachibility (Tc)                                          324 non-null    object\n",
            " 13  Encourages me to think more creatively (Tf)                                     324 non-null    object\n",
            " 14  Gets me to rethink never questioned ideas(Tf)                                   324 non-null    object\n",
            " 15  Tell us standards to carry out the work(Tc)                                     324 non-null    object\n",
            " 16  Views me as having different needs, abilities, and aspirations (Tf)             324 non-null    object\n",
            " 17  Monitors my performance and keeps track of mistake (Tc)                         324 non-null    object\n",
            " 18  Will take action before problems are chronic (Tc)                               324 non-null    object\n",
            " 19  Scope of Corrupt Practices (Tc)                                                 324 non-null    object\n",
            " 20  Works out agreements with me (Tf)                                               324 non-null    object\n",
            " 21  Any comment on if you want to be lead by a Generalist or Specialist(Optional).  21 non-null     object\n",
            "dtypes: object(22)\n",
            "memory usage: 55.8+ KB\n"
          ]
        }
      ]
    },
    {
      "cell_type": "code",
      "metadata": {
        "id": "ZOdn77TzhaYE"
      },
      "source": [
        ""
      ],
      "execution_count": null,
      "outputs": []
    },
    {
      "cell_type": "code",
      "metadata": {
        "colab": {
          "base_uri": "https://localhost:8080/"
        },
        "id": "m1CtCglYh0jZ",
        "outputId": "6bbcb5bd-c2d8-4f11-e87e-1e7b8a32cc9a"
      },
      "source": [
        "from collections import Counter\n"
      ],
      "execution_count": null,
      "outputs": [
        {
          "output_type": "execute_result",
          "data": {
            "text/plain": [
              "Counter({'29 Year.': 2,\n",
              "         '30 years': 2,\n",
              "         \"All india Group' A' Services\": 1,\n",
              "         'Central Force': 1,\n",
              "         'Central Government': 2,\n",
              "         'Central Government assistant professor': 1,\n",
              "         'Central Secretariat Services': 1,\n",
              "         'Class-2': 1,\n",
              "         'Css': 1,\n",
              "         'DANICS': 2,\n",
              "         'Frieght, Parcel and Passenger Transport.': 1,\n",
              "         'Government': 3,\n",
              "         'Govt.Service': 1,\n",
              "         'IA&AS': 29,\n",
              "         'IAS': 69,\n",
              "         'IES': 2,\n",
              "         'IFS': 3,\n",
              "         'IPS': 22,\n",
              "         'IPoS': 1,\n",
              "         'IRAS': 1,\n",
              "         'IRS': 8,\n",
              "         'IRSEE': 1,\n",
              "         'IRTS': 1,\n",
              "         'Indian Accounts and Auditing Services': 15,\n",
              "         'Indian Administrative Services': 28,\n",
              "         'Indian Administrative services': 10,\n",
              "         'Indian Audit & Accounts Services': 1,\n",
              "         'Indian Audit and Accounts Services': 2,\n",
              "         'Indian Civil Account Services': 1,\n",
              "         'Indian Corporate Law Service': 4,\n",
              "         'Indian Corporate Law Services': 6,\n",
              "         'Indian Cost Accounts Service': 1,\n",
              "         'Indian Defense Accounts Service': 1,\n",
              "         'Indian Economic Service': 1,\n",
              "         'Indian Economic Services': 6,\n",
              "         'Indian Engineering Services': 3,\n",
              "         'Indian Foreign Service': 4,\n",
              "         'Indian Foreign Services': 8,\n",
              "         'Indian Forest Services': 3,\n",
              "         'Indian Forest services': 1,\n",
              "         'Indian Information Services': 7,\n",
              "         'Indian Legal Service': 2,\n",
              "         'Indian Legal Services': 1,\n",
              "         'Indian Petroleum and Explosives Safety Services': 2,\n",
              "         'Indian Police Service': 6,\n",
              "         'Indian Police Services': 7,\n",
              "         'Indian Railway Service': 1,\n",
              "         'Indian Railway Traffic Service': 2,\n",
              "         'Indian Railway Traffic Service (IRTS)': 1,\n",
              "         'Indian Railways Service': 2,\n",
              "         'Indian Railways Traffic Service': 3,\n",
              "         'Indian Revenue Services': 13,\n",
              "         'Indian Telecommunication Services': 6,\n",
              "         'Indian Trade Service': 1,\n",
              "         'Indian forest services': 1,\n",
              "         'Inspector RPF': 1,\n",
              "         'Para military': 1,\n",
              "         'Policy and Academic Planning': 1,\n",
              "         'Railway': 1,\n",
              "         'Railway protection Force': 1,\n",
              "         'Railways': 1,\n",
              "         'Securities and Exchange Board of India': 1,\n",
              "         'Security': 5,\n",
              "         'Si': 2,\n",
              "         'Staff Selection Commission': 1,\n",
              "         'Young Professional': 2,\n",
              "         'security': 1})"
            ]
          },
          "metadata": {},
          "execution_count": 18
        }
      ]
    },
    {
      "cell_type": "code",
      "metadata": {
        "id": "R8zBgzvyiLH8"
      },
      "source": [
        "data = data.iloc[:,4:].drop(\"Civil Service you belong to\",axis=1)"
      ],
      "execution_count": null,
      "outputs": []
    },
    {
      "cell_type": "code",
      "metadata": {
        "id": "NWYF3Ecsi1Uh"
      },
      "source": [
        "import seaborn as sns"
      ],
      "execution_count": null,
      "outputs": []
    },
    {
      "cell_type": "code",
      "metadata": {
        "colab": {
          "base_uri": "https://localhost:8080/",
          "height": 351
        },
        "id": "dOjVvQVsi9Cv",
        "outputId": "35054a25-0927-48b9-d525-40cce627063a"
      },
      "source": [
        "sns.countplot(data[\"Led By (G = Generalists (IAS)/ S= Speacialists(All other services)\"])"
      ],
      "execution_count": null,
      "outputs": [
        {
          "output_type": "stream",
          "name": "stderr",
          "text": [
            "/usr/local/lib/python3.7/dist-packages/seaborn/_decorators.py:43: FutureWarning: Pass the following variable as a keyword arg: x. From version 0.12, the only valid positional argument will be `data`, and passing other arguments without an explicit keyword will result in an error or misinterpretation.\n",
            "  FutureWarning\n"
          ]
        },
        {
          "output_type": "execute_result",
          "data": {
            "text/plain": [
              "<matplotlib.axes._subplots.AxesSubplot at 0x7f5b1a62e050>"
            ]
          },
          "metadata": {},
          "execution_count": 29
        },
        {
          "output_type": "display_data",
          "data": {
            "image/png": "[encoded data removed]",
            "text/plain": [
              "<Figure size 432x288 with 1 Axes>"
            ]
          },
          "metadata": {
            "needs_background": "light"
          }
        }
      ]
    },
    {
      "cell_type": "code",
      "metadata": {
        "colab": {
          "base_uri": "https://localhost:8080/"
        },
        "id": "z5ydEXJxjuVl",
        "outputId": "1be82259-5356-4fee-ee05-c7bd0a0faf25"
      },
      "source": [
        "Counter(data[\"Led By (G = Generalists (IAS)/ S= Speacialists(All other services)\"])"
      ],
      "execution_count": null,
      "outputs": [
        {
          "output_type": "execute_result",
          "data": {
            "text/plain": [
              "Counter({'G': 177, 'S': 147})"
            ]
          },
          "metadata": {},
          "execution_count": 33
        }
      ]
    },
    {
      "cell_type": "code",
      "metadata": {
        "colab": {
          "base_uri": "https://localhost:8080/"
        },
        "id": "xY8DlwTbjnSu",
        "outputId": "f17cc805-ea5b-4ec2-9558-e8b0ba29e32e"
      },
      "source": [
        "data[\"Genuine Concern for Others(Tf)\"].unique()"
      ],
      "execution_count": null,
      "outputs": [
        {
          "output_type": "execute_result",
          "data": {
            "text/plain": [
              "array(['Very satisfied', 'Satisfied', 'Neutral', 'Unsatisfied',\n",
              "       'Very unsatisfied'], dtype=object)"
            ]
          },
          "metadata": {},
          "execution_count": 36
        }
      ]
    },
    {
      "cell_type": "code",
      "metadata": {
        "id": "f_BomKXnjoOq"
      },
      "source": [
        "rep = {'Very satisfied':5, 'Satisfied':4, 'Neutral':3, 'Unsatisfied':2,\n",
        "       'Very unsatisfied':1}"
      ],
      "execution_count": null,
      "outputs": []
    },
    {
      "cell_type": "code",
      "metadata": {
        "id": "7GzgRTPlk8PV"
      },
      "source": [
        "data_ = data.replace(rep)"
      ],
      "execution_count": null,
      "outputs": []
    },
    {
      "cell_type": "code",
      "metadata": {
        "colab": {
          "base_uri": "https://localhost:8080/",
          "height": 229
        },
        "id": "x2ASloxsk_gg",
        "outputId": "34ae9146-7909-4ba0-f471-174c0d3e9bec"
      },
      "source": [
        "import matplotlib.pyplot as plt\n",
        "import numpy as np\n",
        "df = data_.iloc[:,1:]\n",
        "corr=df.corr(method=\"spearman\")\n",
        "plt.figure(figsize=(12,8))\n",
        "mask = np.zeros_like(corr)\n",
        "mask[np.triu_indices_from(mask)] = True\n",
        "sns.heatmap(corr, annot=True,mask=mask, fmt='.2g', linewidths=0, linecolor='white')"
      ],
      "execution_count": null,
      "outputs": [
        {
          "output_type": "error",
          "ename": "NameError",
          "evalue": "ignored",
          "traceback": [
            "\u001b[0;31m---------------------------------------------------------------------------\u001b[0m",
            "\u001b[0;31mNameError\u001b[0m                                 Traceback (most recent call last)",
            "\u001b[0;32m<ipython-input-2-e64d52782980>\u001b[0m in \u001b[0;36m<module>\u001b[0;34m()\u001b[0m\n\u001b[1;32m      1\u001b[0m \u001b[0;32mimport\u001b[0m \u001b[0mmatplotlib\u001b[0m\u001b[0;34m.\u001b[0m\u001b[0mpyplot\u001b[0m \u001b[0;32mas\u001b[0m \u001b[0mplt\u001b[0m\u001b[0;34m\u001b[0m\u001b[0;34m\u001b[0m\u001b[0m\n\u001b[1;32m      2\u001b[0m \u001b[0;32mimport\u001b[0m \u001b[0mnumpy\u001b[0m \u001b[0;32mas\u001b[0m \u001b[0mnp\u001b[0m\u001b[0;34m\u001b[0m\u001b[0;34m\u001b[0m\u001b[0m\n\u001b[0;32m----> 3\u001b[0;31m \u001b[0mdf\u001b[0m \u001b[0;34m=\u001b[0m \u001b[0mdata_\u001b[0m\u001b[0;34m.\u001b[0m\u001b[0miloc\u001b[0m\u001b[0;34m[\u001b[0m\u001b[0;34m:\u001b[0m\u001b[0;34m,\u001b[0m\u001b[0;36m1\u001b[0m\u001b[0;34m:\u001b[0m\u001b[0;34m]\u001b[0m\u001b[0;34m\u001b[0m\u001b[0;34m\u001b[0m\u001b[0m\n\u001b[0m\u001b[1;32m      4\u001b[0m \u001b[0mcorr\u001b[0m\u001b[0;34m=\u001b[0m\u001b[0mdf\u001b[0m\u001b[0;34m.\u001b[0m\u001b[0mcorr\u001b[0m\u001b[0;34m(\u001b[0m\u001b[0mmethod\u001b[0m\u001b[0;34m=\u001b[0m\u001b[0;34m\"spearman\"\u001b[0m\u001b[0;34m)\u001b[0m\u001b[0;34m\u001b[0m\u001b[0;34m\u001b[0m\u001b[0m\n\u001b[1;32m      5\u001b[0m \u001b[0mplt\u001b[0m\u001b[0;34m.\u001b[0m\u001b[0mfigure\u001b[0m\u001b[0;34m(\u001b[0m\u001b[0mfigsize\u001b[0m\u001b[0;34m=\u001b[0m\u001b[0;34m(\u001b[0m\u001b[0;36m12\u001b[0m\u001b[0;34m,\u001b[0m\u001b[0;36m8\u001b[0m\u001b[0;34m)\u001b[0m\u001b[0;34m)\u001b[0m\u001b[0;34m\u001b[0m\u001b[0;34m\u001b[0m\u001b[0m\n",
            "\u001b[0;31mNameError\u001b[0m: name 'data_' is not defined"
          ]
        }
      ]
    },
    {
      "cell_type": "code",
      "metadata": {
        "colab": {
          "base_uri": "https://localhost:8080/",
          "height": 1000
        },
        "id": "B6ACruF85GGT",
        "outputId": "773738a5-2325-44e3-c75a-226e809d34ef"
      },
      "source": [
        "corr"
      ],
      "execution_count": null,
      "outputs": [
        {
          "output_type": "execute_result",
          "data": {
            "text/html": [
              "<div>\n",
              "<style scoped>\n",
              "    .dataframe tbody tr th:only-of-type {\n",
              "        vertical-align: middle;\n",
              "    }\n",
              "\n",
              "    .dataframe tbody tr th {\n",
              "        vertical-align: top;\n",
              "    }\n",
              "\n",
              "    .dataframe thead th {\n",
              "        text-align: right;\n",
              "    }\n",
              "</style>\n",
              "<table border=\"1\" class=\"dataframe\">\n",
              "  <thead>\n",
              "    <tr style=\"text-align: right;\">\n",
              "      <th></th>\n",
              "      <th>Genuine Concern for Others(Tf)</th>\n",
              "      <th>Spends time teaching and coaching (Tf)</th>\n",
              "      <th>Political Sensitivity and Skills(Tc)</th>\n",
              "      <th>Decisiveness Determination and Self Confidence (Tf)</th>\n",
              "      <th>Integrity, trustworthiness, honesty and openness (Tf)</th>\n",
              "      <th>Networks with different offices to get the work done (Tc)</th>\n",
              "      <th>Accessibility and approachibility (Tc)</th>\n",
              "      <th>Encourages me to think more creatively (Tf)</th>\n",
              "      <th>Gets me to rethink never questioned ideas(Tf)</th>\n",
              "      <th>Tell us standards to carry out the work(Tc)</th>\n",
              "      <th>Views me as having different needs, abilities, and aspirations (Tf)</th>\n",
              "      <th>Monitors my performance and keeps track of mistake (Tc)</th>\n",
              "      <th>Will take action before problems are chronic (Tc)</th>\n",
              "      <th>Scope of Corrupt Practices (Tc)</th>\n",
              "      <th>Works out agreements with me (Tf)</th>\n",
              "    </tr>\n",
              "  </thead>\n",
              "  <tbody>\n",
              "    <tr>\n",
              "      <th>Genuine Concern for Others(Tf)</th>\n",
              "      <td>1.000000</td>\n",
              "      <td>0.684909</td>\n",
              "      <td>0.614382</td>\n",
              "      <td>0.656898</td>\n",
              "      <td>0.613267</td>\n",
              "      <td>0.173959</td>\n",
              "      <td>0.589457</td>\n",
              "      <td>0.651372</td>\n",
              "      <td>0.563007</td>\n",
              "      <td>0.610748</td>\n",
              "      <td>0.625110</td>\n",
              "      <td>0.559281</td>\n",
              "      <td>0.537933</td>\n",
              "      <td>0.338305</td>\n",
              "      <td>0.510821</td>\n",
              "    </tr>\n",
              "    <tr>\n",
              "      <th>Spends time teaching and coaching (Tf)</th>\n",
              "      <td>0.684909</td>\n",
              "      <td>1.000000</td>\n",
              "      <td>0.644852</td>\n",
              "      <td>0.647380</td>\n",
              "      <td>0.590566</td>\n",
              "      <td>0.160288</td>\n",
              "      <td>0.574501</td>\n",
              "      <td>0.591375</td>\n",
              "      <td>0.532588</td>\n",
              "      <td>0.553245</td>\n",
              "      <td>0.593791</td>\n",
              "      <td>0.576523</td>\n",
              "      <td>0.503990</td>\n",
              "      <td>0.384710</td>\n",
              "      <td>0.535229</td>\n",
              "    </tr>\n",
              "    <tr>\n",
              "      <th>Political Sensitivity and Skills(Tc)</th>\n",
              "      <td>0.614382</td>\n",
              "      <td>0.644852</td>\n",
              "      <td>1.000000</td>\n",
              "      <td>0.658757</td>\n",
              "      <td>0.573577</td>\n",
              "      <td>0.068369</td>\n",
              "      <td>0.647239</td>\n",
              "      <td>0.570369</td>\n",
              "      <td>0.587792</td>\n",
              "      <td>0.598832</td>\n",
              "      <td>0.597220</td>\n",
              "      <td>0.588584</td>\n",
              "      <td>0.568212</td>\n",
              "      <td>0.330389</td>\n",
              "      <td>0.478379</td>\n",
              "    </tr>\n",
              "    <tr>\n",
              "      <th>Decisiveness Determination and Self Confidence (Tf)</th>\n",
              "      <td>0.656898</td>\n",
              "      <td>0.647380</td>\n",
              "      <td>0.658757</td>\n",
              "      <td>1.000000</td>\n",
              "      <td>0.661013</td>\n",
              "      <td>0.141349</td>\n",
              "      <td>0.637616</td>\n",
              "      <td>0.665282</td>\n",
              "      <td>0.546766</td>\n",
              "      <td>0.642370</td>\n",
              "      <td>0.636667</td>\n",
              "      <td>0.600495</td>\n",
              "      <td>0.629554</td>\n",
              "      <td>0.361994</td>\n",
              "      <td>0.573878</td>\n",
              "    </tr>\n",
              "    <tr>\n",
              "      <th>Integrity, trustworthiness, honesty and openness (Tf)</th>\n",
              "      <td>0.613267</td>\n",
              "      <td>0.590566</td>\n",
              "      <td>0.573577</td>\n",
              "      <td>0.661013</td>\n",
              "      <td>1.000000</td>\n",
              "      <td>0.163103</td>\n",
              "      <td>0.593539</td>\n",
              "      <td>0.595785</td>\n",
              "      <td>0.446049</td>\n",
              "      <td>0.641784</td>\n",
              "      <td>0.610257</td>\n",
              "      <td>0.592437</td>\n",
              "      <td>0.645489</td>\n",
              "      <td>0.346765</td>\n",
              "      <td>0.504482</td>\n",
              "    </tr>\n",
              "    <tr>\n",
              "      <th>Networks with different offices to get the work done (Tc)</th>\n",
              "      <td>0.173959</td>\n",
              "      <td>0.160288</td>\n",
              "      <td>0.068369</td>\n",
              "      <td>0.141349</td>\n",
              "      <td>0.163103</td>\n",
              "      <td>1.000000</td>\n",
              "      <td>0.149875</td>\n",
              "      <td>-0.030986</td>\n",
              "      <td>-0.128027</td>\n",
              "      <td>0.000419</td>\n",
              "      <td>0.079587</td>\n",
              "      <td>0.154314</td>\n",
              "      <td>0.136279</td>\n",
              "      <td>0.064578</td>\n",
              "      <td>0.074902</td>\n",
              "    </tr>\n",
              "    <tr>\n",
              "      <th>Accessibility and approachibility (Tc)</th>\n",
              "      <td>0.589457</td>\n",
              "      <td>0.574501</td>\n",
              "      <td>0.647239</td>\n",
              "      <td>0.637616</td>\n",
              "      <td>0.593539</td>\n",
              "      <td>0.149875</td>\n",
              "      <td>1.000000</td>\n",
              "      <td>0.650580</td>\n",
              "      <td>0.568489</td>\n",
              "      <td>0.629130</td>\n",
              "      <td>0.626207</td>\n",
              "      <td>0.611930</td>\n",
              "      <td>0.594174</td>\n",
              "      <td>0.347831</td>\n",
              "      <td>0.503828</td>\n",
              "    </tr>\n",
              "    <tr>\n",
              "      <th>Encourages me to think more creatively (Tf)</th>\n",
              "      <td>0.651372</td>\n",
              "      <td>0.591375</td>\n",
              "      <td>0.570369</td>\n",
              "      <td>0.665282</td>\n",
              "      <td>0.595785</td>\n",
              "      <td>-0.030986</td>\n",
              "      <td>0.650580</td>\n",
              "      <td>1.000000</td>\n",
              "      <td>0.705811</td>\n",
              "      <td>0.679024</td>\n",
              "      <td>0.634392</td>\n",
              "      <td>0.615683</td>\n",
              "      <td>0.578075</td>\n",
              "      <td>0.371437</td>\n",
              "      <td>0.587973</td>\n",
              "    </tr>\n",
              "    <tr>\n",
              "      <th>Gets me to rethink never questioned ideas(Tf)</th>\n",
              "      <td>0.563007</td>\n",
              "      <td>0.532588</td>\n",
              "      <td>0.587792</td>\n",
              "      <td>0.546766</td>\n",
              "      <td>0.446049</td>\n",
              "      <td>-0.128027</td>\n",
              "      <td>0.568489</td>\n",
              "      <td>0.705811</td>\n",
              "      <td>1.000000</td>\n",
              "      <td>0.640436</td>\n",
              "      <td>0.623893</td>\n",
              "      <td>0.591228</td>\n",
              "      <td>0.611294</td>\n",
              "      <td>0.316790</td>\n",
              "      <td>0.563859</td>\n",
              "    </tr>\n",
              "    <tr>\n",
              "      <th>Tell us standards to carry out the work(Tc)</th>\n",
              "      <td>0.610748</td>\n",
              "      <td>0.553245</td>\n",
              "      <td>0.598832</td>\n",
              "      <td>0.642370</td>\n",
              "      <td>0.641784</td>\n",
              "      <td>0.000419</td>\n",
              "      <td>0.629130</td>\n",
              "      <td>0.679024</td>\n",
              "      <td>0.640436</td>\n",
              "      <td>1.000000</td>\n",
              "      <td>0.648913</td>\n",
              "      <td>0.620490</td>\n",
              "      <td>0.624247</td>\n",
              "      <td>0.361301</td>\n",
              "      <td>0.552627</td>\n",
              "    </tr>\n",
              "    <tr>\n",
              "      <th>Views me as having different needs, abilities, and aspirations (Tf)</th>\n",
              "      <td>0.625110</td>\n",
              "      <td>0.593791</td>\n",
              "      <td>0.597220</td>\n",
              "      <td>0.636667</td>\n",
              "      <td>0.610257</td>\n",
              "      <td>0.079587</td>\n",
              "      <td>0.626207</td>\n",
              "      <td>0.634392</td>\n",
              "      <td>0.623893</td>\n",
              "      <td>0.648913</td>\n",
              "      <td>1.000000</td>\n",
              "      <td>0.612546</td>\n",
              "      <td>0.608915</td>\n",
              "      <td>0.399910</td>\n",
              "      <td>0.622771</td>\n",
              "    </tr>\n",
              "    <tr>\n",
              "      <th>Monitors my performance and keeps track of mistake (Tc)</th>\n",
              "      <td>0.559281</td>\n",
              "      <td>0.576523</td>\n",
              "      <td>0.588584</td>\n",
              "      <td>0.600495</td>\n",
              "      <td>0.592437</td>\n",
              "      <td>0.154314</td>\n",
              "      <td>0.611930</td>\n",
              "      <td>0.615683</td>\n",
              "      <td>0.591228</td>\n",
              "      <td>0.620490</td>\n",
              "      <td>0.612546</td>\n",
              "      <td>1.000000</td>\n",
              "      <td>0.660141</td>\n",
              "      <td>0.374831</td>\n",
              "      <td>0.584553</td>\n",
              "    </tr>\n",
              "    <tr>\n",
              "      <th>Will take action before problems are chronic (Tc)</th>\n",
              "      <td>0.537933</td>\n",
              "      <td>0.503990</td>\n",
              "      <td>0.568212</td>\n",
              "      <td>0.629554</td>\n",
              "      <td>0.645489</td>\n",
              "      <td>0.136279</td>\n",
              "      <td>0.594174</td>\n",
              "      <td>0.578075</td>\n",
              "      <td>0.611294</td>\n",
              "      <td>0.624247</td>\n",
              "      <td>0.608915</td>\n",
              "      <td>0.660141</td>\n",
              "      <td>1.000000</td>\n",
              "      <td>0.395424</td>\n",
              "      <td>0.628662</td>\n",
              "    </tr>\n",
              "    <tr>\n",
              "      <th>Scope of Corrupt Practices (Tc)</th>\n",
              "      <td>0.338305</td>\n",
              "      <td>0.384710</td>\n",
              "      <td>0.330389</td>\n",
              "      <td>0.361994</td>\n",
              "      <td>0.346765</td>\n",
              "      <td>0.064578</td>\n",
              "      <td>0.347831</td>\n",
              "      <td>0.371437</td>\n",
              "      <td>0.316790</td>\n",
              "      <td>0.361301</td>\n",
              "      <td>0.399910</td>\n",
              "      <td>0.374831</td>\n",
              "      <td>0.395424</td>\n",
              "      <td>1.000000</td>\n",
              "      <td>0.500549</td>\n",
              "    </tr>\n",
              "    <tr>\n",
              "      <th>Works out agreements with me (Tf)</th>\n",
              "      <td>0.510821</td>\n",
              "      <td>0.535229</td>\n",
              "      <td>0.478379</td>\n",
              "      <td>0.573878</td>\n",
              "      <td>0.504482</td>\n",
              "      <td>0.074902</td>\n",
              "      <td>0.503828</td>\n",
              "      <td>0.587973</td>\n",
              "      <td>0.563859</td>\n",
              "      <td>0.552627</td>\n",
              "      <td>0.622771</td>\n",
              "      <td>0.584553</td>\n",
              "      <td>0.628662</td>\n",
              "      <td>0.500549</td>\n",
              "      <td>1.000000</td>\n",
              "    </tr>\n",
              "  </tbody>\n",
              "</table>\n",
              "</div>"
            ],
            "text/plain": [
              "                                                    Genuine Concern for Others(Tf)  ...  Works out agreements with me (Tf)\n",
              "Genuine Concern for Others(Tf)                                            1.000000  ...                           0.510821\n",
              "Spends time teaching and coaching (Tf)                                    0.684909  ...                           0.535229\n",
              "Political Sensitivity and Skills(Tc)                                      0.614382  ...                           0.478379\n",
              "Decisiveness Determination and Self Confidence ...                        0.656898  ...                           0.573878\n",
              "Integrity, trustworthiness, honesty and opennes...                        0.613267  ...                           0.504482\n",
              "Networks with different offices to get the work...                        0.173959  ...                           0.074902\n",
              "Accessibility and approachibility (Tc)                                    0.589457  ...                           0.503828\n",
              "Encourages me to think more creatively (Tf)                               0.651372  ...                           0.587973\n",
              "Gets me to rethink never questioned ideas(Tf)                             0.563007  ...                           0.563859\n",
              "Tell us standards to carry out the work(Tc)                               0.610748  ...                           0.552627\n",
              "Views me as having different needs, abilities, ...                        0.625110  ...                           0.622771\n",
              "Monitors my performance and keeps track of mist...                        0.559281  ...                           0.584553\n",
              "Will take action before problems are chronic (Tc)                         0.537933  ...                           0.628662\n",
              "Scope of Corrupt Practices (Tc)                                           0.338305  ...                           0.500549\n",
              "Works out agreements with me (Tf)                                         0.510821  ...                           1.000000\n",
              "\n",
              "[15 rows x 15 columns]"
            ]
          },
          "metadata": {},
          "execution_count": 134
        }
      ]
    },
    {
      "cell_type": "code",
      "metadata": {
        "id": "RmFfnUYVlAZL"
      },
      "source": [
        "import sklearn"
      ],
      "execution_count": null,
      "outputs": []
    },
    {
      "cell_type": "code",
      "metadata": {
        "id": "rcTAi4dZnuKU"
      },
      "source": [
        ""
      ],
      "execution_count": null,
      "outputs": []
    },
    {
      "cell_type": "code",
      "metadata": {
        "id": "p3Fh4thdn2CR"
      },
      "source": [
        "from sklearn.tree import DecisionTreeClassifier \n",
        "from sklearn import tree"
      ],
      "execution_count": null,
      "outputs": []
    },
    {
      "cell_type": "code",
      "metadata": {
        "id": "m0RZ0pIPoR0J"
      },
      "source": [
        "X = df\n",
        "Y = data_.iloc[:,0]"
      ],
      "execution_count": null,
      "outputs": []
    },
    {
      "cell_type": "markdown",
      "metadata": {
        "id": "NT_pdrgNpmJ6"
      },
      "source": [
        ""
      ]
    },
    {
      "cell_type": "code",
      "metadata": {
        "id": "zGUeIINooYyW"
      },
      "source": [
        "clf = DecisionTreeClassifier(random_state=1234,max_depth=3,criterion='gini',splitter='best')\n",
        "model = clf.fit(X, Y)"
      ],
      "execution_count": null,
      "outputs": []
    },
    {
      "cell_type": "code",
      "metadata": {
        "colab": {
          "base_uri": "https://localhost:8080/",
          "height": 1000
        },
        "id": "lIMtZf6vol7T",
        "outputId": "701927fa-47c6-46e9-d4d1-e5a092cdaf60"
      },
      "source": [
        "fig = plt.figure(figsize=(25,20))\n",
        "_ = tree.plot_tree(clf, \n",
        "                   feature_names=X.columns,  \n",
        "                   class_names=Y.unique(),\n",
        "                   filled=True)"
      ],
      "execution_count": null,
      "outputs": [
        {
          "output_type": "display_data",
          "data": {
            "image/png": "[encoded data removed]",
            "text/plain": [
              "<Figure size 1800x1440 with 1 Axes>"
            ]
          },
          "metadata": {
            "needs_background": "light"
          }
        }
      ]
    },
    {
      "cell_type": "code",
      "metadata": {
        "id": "VIktbcGJpYbD"
      },
      "source": [
        "data_G = data_[data_[\"Led By (G = Generalists (IAS)/ S= Speacialists(All other services)\"]==\"G\"]\n",
        "data_S = data_[data_[\"Led By (G = Generalists (IAS)/ S= Speacialists(All other services)\"]==\"S\"]"
      ],
      "execution_count": null,
      "outputs": []
    },
    {
      "cell_type": "code",
      "metadata": {
        "id": "o-h5cyZ5zpZ2"
      },
      "source": [
        "import matplotlib.pyplot as plt\n",
        "import numpy as np\n"
      ],
      "execution_count": null,
      "outputs": []
    },
    {
      "cell_type": "code",
      "metadata": {
        "id": "1YZ9gaDDyohm"
      },
      "source": [
        "def freq_plot(columns):\n",
        "  data_G = data_[data_[\"Led By (G = Generalists (IAS)/ S= Speacialists(All other services)\"]==\"G\"]\n",
        "  data_S = data_[data_[\"Led By (G = Generalists (IAS)/ S= Speacialists(All other services)\"]==\"S\"]\n",
        "  a = data_G[columns]\n",
        "  b = data_S[columns]\n",
        "  a_count=dict(Counter(a))\n",
        "  b_count=dict(Counter(b))\n",
        "  a_lis=list(a_count.values())\n",
        "  b_lis=list(b_count.values())\n",
        "  val = np.array(list(a_count.keys()))\n",
        "  width = 0.40\n",
        "  plt.bar(val-0.2, a_lis, width,label=\"G\")\n",
        "  plt.bar(val+0.2, b_lis, width,label=\"S\")\n",
        "  plt.xlabel(\"Rating\")\n",
        "  plt.ylabel(\"Frequency\")\n",
        "  plt.legend()\n",
        "  plt.show()\n",
        "  return \n"
      ],
      "execution_count": null,
      "outputs": []
    },
    {
      "cell_type": "code",
      "metadata": {
        "colab": {
          "base_uri": "https://localhost:8080/"
        },
        "id": "KLslrsado2k7",
        "outputId": "04865701-d668-46b2-90d0-42183fb65dbe"
      },
      "source": [
        "data_.columns"
      ],
      "execution_count": null,
      "outputs": [
        {
          "output_type": "execute_result",
          "data": {
            "text/plain": [
              "Index(['Led By (G = Generalists (IAS)/ S= Speacialists(All other services)',\n",
              "       'Genuine Concern for Others(Tf)',\n",
              "       'Spends time teaching and coaching (Tf)',\n",
              "       'Political Sensitivity and Skills(Tc)',\n",
              "       'Decisiveness Determination and Self Confidence (Tf)',\n",
              "       'Integrity, trustworthiness, honesty and openness (Tf)',\n",
              "       'Networks with different offices to get the work done (Tc)',\n",
              "       'Accessibility and approachibility (Tc)',\n",
              "       'Encourages me to think more creatively (Tf)',\n",
              "       'Gets me to rethink never questioned ideas(Tf)',\n",
              "       'Tell us standards to carry out the work(Tc)',\n",
              "       'Views me as having different needs, abilities, and aspirations (Tf)',\n",
              "       'Monitors my performance and keeps track of mistake (Tc)',\n",
              "       'Will take action before problems are chronic (Tc)',\n",
              "       'Scope of Corrupt Practices (Tc)', 'Works out agreements with me (Tf)'],\n",
              "      dtype='object')"
            ]
          },
          "metadata": {},
          "execution_count": 132
        }
      ]
    },
    {
      "cell_type": "code",
      "metadata": {
        "colab": {
          "base_uri": "https://localhost:8080/",
          "height": 279
        },
        "id": "RwMna-zowGlA",
        "outputId": "2fd02407-1d70-4158-88a9-1ed3bcea8d5d"
      },
      "source": [
        "freq_plot('Will take action before problems are chronic (Tc)')"
      ],
      "execution_count": null,
      "outputs": [
        {
          "output_type": "display_data",
          "data": {
            "image/png": "[encoded data removed]",
            "text/plain": [
              "<Figure size 432x288 with 1 Axes>"
            ]
          },
          "metadata": {
            "needs_background": "light"
          }
        }
      ]
    },
    {
      "cell_type": "code",
      "metadata": {
        "id": "GEWTiEddwJNI"
      },
      "source": [
        "from sklearn.linear_model import LogisticRegression"
      ],
      "execution_count": null,
      "outputs": []
    },
    {
      "cell_type": "code",
      "metadata": {
        "id": "m_KPaX7UxVcz"
      },
      "source": [
        "model = LogisticRegression()"
      ],
      "execution_count": null,
      "outputs": []
    },
    {
      "cell_type": "code",
      "metadata": {
        "id": "Oyy49QFXxbK6"
      },
      "source": [
        "Y=Y.replace({\"G\":0,\"S\":1})\n"
      ],
      "execution_count": null,
      "outputs": []
    },
    {
      "cell_type": "code",
      "metadata": {
        "id": "O93vfGg2xfJO"
      },
      "source": [
        "from sklearn.model_selection import train_test_split\n",
        "X_train,X_test,Y_train,Y_test = train_test_split(X,Y,test_size=0.2,random_state=10)"
      ],
      "execution_count": null,
      "outputs": []
    },
    {
      "cell_type": "code",
      "metadata": {
        "colab": {
          "base_uri": "https://localhost:8080/"
        },
        "id": "5aRurzLlxfzP",
        "outputId": "94717b00-7ecc-4541-c2df-219aed0d7956"
      },
      "source": [
        "model.fit(X_train,Y_train)"
      ],
      "execution_count": null,
      "outputs": [
        {
          "output_type": "execute_result",
          "data": {
            "text/plain": [
              "LogisticRegression(C=1.0, class_weight=None, dual=False, fit_intercept=True,\n",
              "                   intercept_scaling=1, l1_ratio=None, max_iter=100,\n",
              "                   multi_class='auto', n_jobs=None, penalty='l2',\n",
              "                   random_state=None, solver='lbfgs', tol=0.0001, verbose=0,\n",
              "                   warm_start=False)"
            ]
          },
          "metadata": {},
          "execution_count": 151
        }
      ]
    },
    {
      "cell_type": "code",
      "metadata": {
        "id": "OlXDIDLWxhGk"
      },
      "source": [
        "Y_pred = model.predict(X_test)"
      ],
      "execution_count": null,
      "outputs": []
    },
    {
      "cell_type": "code",
      "metadata": {
        "colab": {
          "base_uri": "https://localhost:8080/"
        },
        "id": "Gq6owU0V7PO9",
        "outputId": "836b17c3-1f8f-44e1-8a4a-7ae78c59a19f"
      },
      "source": [
        "print(sklearn.metrics.classification_report(Y_test,Y_pred))"
      ],
      "execution_count": null,
      "outputs": [
        {
          "output_type": "stream",
          "name": "stdout",
          "text": [
            "              precision    recall  f1-score   support\n",
            "\n",
            "           0       0.61      0.68      0.64        37\n",
            "           1       0.50      0.43      0.46        28\n",
            "\n",
            "    accuracy                           0.57        65\n",
            "   macro avg       0.55      0.55      0.55        65\n",
            "weighted avg       0.56      0.57      0.56        65\n",
            "\n"
          ]
        }
      ]
    },
    {
      "cell_type": "code",
      "metadata": {
        "id": "TViVMDH-7V5O"
      },
      "source": [
        "coefs = model.coef_[0]"
      ],
      "execution_count": null,
      "outputs": []
    },
    {
      "cell_type": "code",
      "metadata": {
        "colab": {
          "base_uri": "https://localhost:8080/",
          "height": 727
        },
        "id": "F4Z2mAJQ7hzb",
        "outputId": "95ed9a94-4203-4e12-d6d8-8139eb0bf487"
      },
      "source": [
        "plt.figure(figsize=(16,6))\n",
        "plt.bar([i for i in data_.columns[1:]],coefs)\n",
        "label=list(data_.columns)\n",
        "plt.xticks(rotation=90)"
      ],
      "execution_count": null,
      "outputs": [
        {
          "output_type": "execute_result",
          "data": {
            "text/plain": [
              "([0, 1, 2, 3, 4, 5, 6, 7, 8, 9, 10, 11, 12, 13, 14],\n",
              " <a list of 15 Text major ticklabel objects>)"
            ]
          },
          "metadata": {},
          "execution_count": 190
        },
        {
          "output_type": "display_data",
          "data": {
            "image/png": "[encoded data removed]",
            "text/plain": [
              "<Figure size 1152x432 with 1 Axes>"
            ]
          },
          "metadata": {
            "needs_background": "light"
          }
        }
      ]
    },
    {
      "cell_type": "code",
      "metadata": {
        "id": "OB8jKR8P8eYX"
      },
      "source": [
        ""
      ],
      "execution_count": null,
      "outputs": []
    },
    {
      "cell_type": "code",
      "metadata": {
        "id": "nTI9ZWLL9MyO"
      },
      "source": [
        "data_.to_excel(\"HRD.xlsx\")"
      ],
      "execution_count": null,
      "outputs": []
    },
    {
      "cell_type": "code",
      "metadata": {
        "id": "ynzQ1ZnrAfdD"
      },
      "source": [
        ""
      ],
      "execution_count": null,
      "outputs": []
    }
  ]
}